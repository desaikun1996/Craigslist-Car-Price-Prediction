{
 "cells": [
  {
   "cell_type": "markdown",
   "id": "2ea916aa",
   "metadata": {},
   "source": [
    "# Final Project - INFO6150 - Data Science Engineering Methods"
   ]
  },
  {
   "cell_type": "markdown",
   "id": "3ae384a6",
   "metadata": {},
   "source": [
    "# Topic - Craigslist Used Car Price Prediction"
   ]
  },
  {
   "cell_type": "markdown",
   "id": "b3c71936",
   "metadata": {},
   "source": [
    "   ##### Team Members :- \n",
    "   - Neeraja Dixit - 001584742\n",
    "   - Kunal Desai - 002193570"
   ]
  },
  {
   "cell_type": "code",
   "execution_count": 2,
   "id": "f09589fd",
   "metadata": {},
   "outputs": [],
   "source": [
    "import pandas as pd\n",
    "import numpy as np\n",
    "import seaborn as sns\n",
    "import matplotlib.pyplot as plt\n",
    "import plotly.express as px\n",
    "\n",
    "\n"
   ]
  },
  {
   "cell_type": "code",
   "execution_count": 3,
   "id": "c251fa9d",
   "metadata": {},
   "outputs": [],
   "source": [
    "df=pd.read_csv(r'E:\\MS_STUDY\\Study\\AA_SEM_2\\DSE\\Project\\vehicles.csv')"
   ]
  },
  {
   "cell_type": "code",
   "execution_count": 4,
   "id": "869eebbf",
   "metadata": {},
   "outputs": [
    {
     "data": {
      "text/html": [
       "<div>\n",
       "<style scoped>\n",
       "    .dataframe tbody tr th:only-of-type {\n",
       "        vertical-align: middle;\n",
       "    }\n",
       "\n",
       "    .dataframe tbody tr th {\n",
       "        vertical-align: top;\n",
       "    }\n",
       "\n",
       "    .dataframe thead th {\n",
       "        text-align: right;\n",
       "    }\n",
       "</style>\n",
       "<table border=\"1\" class=\"dataframe\">\n",
       "  <thead>\n",
       "    <tr style=\"text-align: right;\">\n",
       "      <th></th>\n",
       "      <th>Unnamed: 0</th>\n",
       "      <th>id</th>\n",
       "      <th>url</th>\n",
       "      <th>region</th>\n",
       "      <th>region_url</th>\n",
       "      <th>price</th>\n",
       "      <th>year</th>\n",
       "      <th>manufacturer</th>\n",
       "      <th>model</th>\n",
       "      <th>condition</th>\n",
       "      <th>...</th>\n",
       "      <th>drive</th>\n",
       "      <th>size</th>\n",
       "      <th>type</th>\n",
       "      <th>paint_color</th>\n",
       "      <th>image_url</th>\n",
       "      <th>description</th>\n",
       "      <th>state</th>\n",
       "      <th>lat</th>\n",
       "      <th>long</th>\n",
       "      <th>posting_date</th>\n",
       "    </tr>\n",
       "  </thead>\n",
       "  <tbody>\n",
       "    <tr>\n",
       "      <th>0</th>\n",
       "      <td>0</td>\n",
       "      <td>7240372487</td>\n",
       "      <td>https://auburn.craigslist.org/ctd/d/auburn-uni...</td>\n",
       "      <td>auburn</td>\n",
       "      <td>https://auburn.craigslist.org</td>\n",
       "      <td>35990</td>\n",
       "      <td>2010.0</td>\n",
       "      <td>chevrolet</td>\n",
       "      <td>corvette grand sport</td>\n",
       "      <td>good</td>\n",
       "      <td>...</td>\n",
       "      <td>rwd</td>\n",
       "      <td>NaN</td>\n",
       "      <td>other</td>\n",
       "      <td>NaN</td>\n",
       "      <td>https://images.craigslist.org/00N0N_ipkbHVZYf4...</td>\n",
       "      <td>Carvana is the safer way to buy a car During t...</td>\n",
       "      <td>al</td>\n",
       "      <td>32.590000</td>\n",
       "      <td>-85.480000</td>\n",
       "      <td>2020-12-02T08:11:30-0600</td>\n",
       "    </tr>\n",
       "    <tr>\n",
       "      <th>1</th>\n",
       "      <td>1</td>\n",
       "      <td>7240309422</td>\n",
       "      <td>https://auburn.craigslist.org/cto/d/auburn-201...</td>\n",
       "      <td>auburn</td>\n",
       "      <td>https://auburn.craigslist.org</td>\n",
       "      <td>7500</td>\n",
       "      <td>2014.0</td>\n",
       "      <td>hyundai</td>\n",
       "      <td>sonata</td>\n",
       "      <td>excellent</td>\n",
       "      <td>...</td>\n",
       "      <td>fwd</td>\n",
       "      <td>NaN</td>\n",
       "      <td>sedan</td>\n",
       "      <td>NaN</td>\n",
       "      <td>https://images.craigslist.org/00s0s_gBHYmJ5o7y...</td>\n",
       "      <td>I'll move to another city and try to sell my c...</td>\n",
       "      <td>al</td>\n",
       "      <td>32.547500</td>\n",
       "      <td>-85.468200</td>\n",
       "      <td>2020-12-02T02:11:50-0600</td>\n",
       "    </tr>\n",
       "    <tr>\n",
       "      <th>2</th>\n",
       "      <td>2</td>\n",
       "      <td>7240224296</td>\n",
       "      <td>https://auburn.craigslist.org/cto/d/auburn-200...</td>\n",
       "      <td>auburn</td>\n",
       "      <td>https://auburn.craigslist.org</td>\n",
       "      <td>4900</td>\n",
       "      <td>2006.0</td>\n",
       "      <td>bmw</td>\n",
       "      <td>x3 3.0i</td>\n",
       "      <td>good</td>\n",
       "      <td>...</td>\n",
       "      <td>NaN</td>\n",
       "      <td>NaN</td>\n",
       "      <td>SUV</td>\n",
       "      <td>blue</td>\n",
       "      <td>https://images.craigslist.org/00B0B_5zgEGWPOrt...</td>\n",
       "      <td>Clean 2006 BMW X3 3.0I.  Beautiful and rare Bl...</td>\n",
       "      <td>al</td>\n",
       "      <td>32.616807</td>\n",
       "      <td>-85.464149</td>\n",
       "      <td>2020-12-01T19:50:41-0600</td>\n",
       "    </tr>\n",
       "    <tr>\n",
       "      <th>3</th>\n",
       "      <td>3</td>\n",
       "      <td>7240103965</td>\n",
       "      <td>https://auburn.craigslist.org/cto/d/lanett-tru...</td>\n",
       "      <td>auburn</td>\n",
       "      <td>https://auburn.craigslist.org</td>\n",
       "      <td>2000</td>\n",
       "      <td>1974.0</td>\n",
       "      <td>chevrolet</td>\n",
       "      <td>c-10</td>\n",
       "      <td>good</td>\n",
       "      <td>...</td>\n",
       "      <td>rwd</td>\n",
       "      <td>full-size</td>\n",
       "      <td>pickup</td>\n",
       "      <td>blue</td>\n",
       "      <td>https://images.craigslist.org/00M0M_6o7KcDpArw...</td>\n",
       "      <td>1974 chev. truck (LONG BED) NEW starter front ...</td>\n",
       "      <td>al</td>\n",
       "      <td>32.861600</td>\n",
       "      <td>-85.216100</td>\n",
       "      <td>2020-12-01T15:54:45-0600</td>\n",
       "    </tr>\n",
       "    <tr>\n",
       "      <th>4</th>\n",
       "      <td>4</td>\n",
       "      <td>7239983776</td>\n",
       "      <td>https://auburn.craigslist.org/cto/d/auburn-200...</td>\n",
       "      <td>auburn</td>\n",
       "      <td>https://auburn.craigslist.org</td>\n",
       "      <td>19500</td>\n",
       "      <td>2005.0</td>\n",
       "      <td>ford</td>\n",
       "      <td>f350 lariat</td>\n",
       "      <td>excellent</td>\n",
       "      <td>...</td>\n",
       "      <td>4wd</td>\n",
       "      <td>full-size</td>\n",
       "      <td>pickup</td>\n",
       "      <td>blue</td>\n",
       "      <td>https://images.craigslist.org/00p0p_b95l1EgUfl...</td>\n",
       "      <td>2005 Ford F350 Lariat (Bullet Proofed). This t...</td>\n",
       "      <td>al</td>\n",
       "      <td>32.547500</td>\n",
       "      <td>-85.468200</td>\n",
       "      <td>2020-12-01T12:53:56-0600</td>\n",
       "    </tr>\n",
       "  </tbody>\n",
       "</table>\n",
       "<p>5 rows × 26 columns</p>\n",
       "</div>"
      ],
      "text/plain": [
       "   Unnamed: 0          id                                                url  \\\n",
       "0           0  7240372487  https://auburn.craigslist.org/ctd/d/auburn-uni...   \n",
       "1           1  7240309422  https://auburn.craigslist.org/cto/d/auburn-201...   \n",
       "2           2  7240224296  https://auburn.craigslist.org/cto/d/auburn-200...   \n",
       "3           3  7240103965  https://auburn.craigslist.org/cto/d/lanett-tru...   \n",
       "4           4  7239983776  https://auburn.craigslist.org/cto/d/auburn-200...   \n",
       "\n",
       "   region                     region_url  price    year manufacturer  \\\n",
       "0  auburn  https://auburn.craigslist.org  35990  2010.0    chevrolet   \n",
       "1  auburn  https://auburn.craigslist.org   7500  2014.0      hyundai   \n",
       "2  auburn  https://auburn.craigslist.org   4900  2006.0          bmw   \n",
       "3  auburn  https://auburn.craigslist.org   2000  1974.0    chevrolet   \n",
       "4  auburn  https://auburn.craigslist.org  19500  2005.0         ford   \n",
       "\n",
       "                  model  condition  ... drive       size    type paint_color  \\\n",
       "0  corvette grand sport       good  ...   rwd        NaN   other         NaN   \n",
       "1                sonata  excellent  ...   fwd        NaN   sedan         NaN   \n",
       "2               x3 3.0i       good  ...   NaN        NaN     SUV        blue   \n",
       "3                  c-10       good  ...   rwd  full-size  pickup        blue   \n",
       "4           f350 lariat  excellent  ...   4wd  full-size  pickup        blue   \n",
       "\n",
       "                                           image_url  \\\n",
       "0  https://images.craigslist.org/00N0N_ipkbHVZYf4...   \n",
       "1  https://images.craigslist.org/00s0s_gBHYmJ5o7y...   \n",
       "2  https://images.craigslist.org/00B0B_5zgEGWPOrt...   \n",
       "3  https://images.craigslist.org/00M0M_6o7KcDpArw...   \n",
       "4  https://images.craigslist.org/00p0p_b95l1EgUfl...   \n",
       "\n",
       "                                         description state        lat  \\\n",
       "0  Carvana is the safer way to buy a car During t...    al  32.590000   \n",
       "1  I'll move to another city and try to sell my c...    al  32.547500   \n",
       "2  Clean 2006 BMW X3 3.0I.  Beautiful and rare Bl...    al  32.616807   \n",
       "3  1974 chev. truck (LONG BED) NEW starter front ...    al  32.861600   \n",
       "4  2005 Ford F350 Lariat (Bullet Proofed). This t...    al  32.547500   \n",
       "\n",
       "        long              posting_date  \n",
       "0 -85.480000  2020-12-02T08:11:30-0600  \n",
       "1 -85.468200  2020-12-02T02:11:50-0600  \n",
       "2 -85.464149  2020-12-01T19:50:41-0600  \n",
       "3 -85.216100  2020-12-01T15:54:45-0600  \n",
       "4 -85.468200  2020-12-01T12:53:56-0600  \n",
       "\n",
       "[5 rows x 26 columns]"
      ]
     },
     "execution_count": 4,
     "metadata": {},
     "output_type": "execute_result"
    }
   ],
   "source": [
    "df.head()"
   ]
  },
  {
   "cell_type": "code",
   "execution_count": 5,
   "id": "c0b99465",
   "metadata": {},
   "outputs": [
    {
     "data": {
      "text/plain": [
       "(458213, 26)"
      ]
     },
     "execution_count": 5,
     "metadata": {},
     "output_type": "execute_result"
    }
   ],
   "source": [
    "df.shape"
   ]
  },
  {
   "cell_type": "code",
   "execution_count": 6,
   "id": "175643af",
   "metadata": {},
   "outputs": [
    {
     "data": {
      "text/plain": [
       "Index(['Unnamed: 0', 'id', 'url', 'region', 'region_url', 'price', 'year',\n",
       "       'manufacturer', 'model', 'condition', 'cylinders', 'fuel', 'odometer',\n",
       "       'title_status', 'transmission', 'VIN', 'drive', 'size', 'type',\n",
       "       'paint_color', 'image_url', 'description', 'state', 'lat', 'long',\n",
       "       'posting_date'],\n",
       "      dtype='object')"
      ]
     },
     "execution_count": 6,
     "metadata": {},
     "output_type": "execute_result"
    }
   ],
   "source": [
    "df.columns\n"
   ]
  },
  {
   "cell_type": "code",
   "execution_count": 7,
   "id": "ace6ee54",
   "metadata": {},
   "outputs": [
    {
     "data": {
      "text/plain": [
       "Index(['Unnamed: 0', 'id', 'url', 'region', 'region_url', 'price', 'year',\n",
       "       'manufacturer', 'model', 'condition', 'cylinders', 'fuel', 'odometer',\n",
       "       'title_status', 'transmission', 'VIN', 'drive', 'size', 'type',\n",
       "       'paint_color', 'image_url', 'description', 'state', 'lat', 'long',\n",
       "       'posting_date'],\n",
       "      dtype='object')"
      ]
     },
     "execution_count": 7,
     "metadata": {},
     "output_type": "execute_result"
    }
   ],
   "source": [
    "df.columns"
   ]
  },
  {
   "cell_type": "markdown",
   "id": "c6252c88",
   "metadata": {},
   "source": [
    "Looking at the total number of columns, it seems that the below columns would not contribute much in predicting the car prices. Hence, we can drop them.\n",
    "Columns to be dropped:-\n",
    "   - 'Unnamed : 0'\n",
    "   - 'id'\n",
    "   - 'url'\n",
    "   - 'region_url'\n",
    "   - 'image_url'\n",
    "   - 'VIN'"
   ]
  },
  {
   "cell_type": "code",
   "execution_count": 8,
   "id": "f850f1fd",
   "metadata": {},
   "outputs": [],
   "source": [
    "df.drop(['Unnamed: 0', 'id','url','region_url','image_url','VIN','posting_date'], axis=1, inplace=True)"
   ]
  },
  {
   "cell_type": "code",
   "execution_count": 9,
   "id": "c899d5be",
   "metadata": {},
   "outputs": [
    {
     "data": {
      "text/plain": [
       "Index(['region', 'price', 'year', 'manufacturer', 'model', 'condition',\n",
       "       'cylinders', 'fuel', 'odometer', 'title_status', 'transmission',\n",
       "       'drive', 'size', 'type', 'paint_color', 'description', 'state', 'lat',\n",
       "       'long'],\n",
       "      dtype='object')"
      ]
     },
     "execution_count": 9,
     "metadata": {},
     "output_type": "execute_result"
    }
   ],
   "source": [
    "df.columns"
   ]
  },
  {
   "cell_type": "markdown",
   "id": "e60ea6fe",
   "metadata": {},
   "source": [
    "###### Also, the 'description' column won't seem to add much value to the model. Thus, dropping that as well."
   ]
  },
  {
   "cell_type": "code",
   "execution_count": 10,
   "id": "45b5e8c8",
   "metadata": {},
   "outputs": [],
   "source": [
    "df=df.drop('description',axis=1)"
   ]
  },
  {
   "cell_type": "code",
   "execution_count": 11,
   "id": "154f1396",
   "metadata": {},
   "outputs": [
    {
     "data": {
      "text/plain": [
       "Index(['region', 'price', 'year', 'manufacturer', 'model', 'condition',\n",
       "       'cylinders', 'fuel', 'odometer', 'title_status', 'transmission',\n",
       "       'drive', 'size', 'type', 'paint_color', 'state', 'lat', 'long'],\n",
       "      dtype='object')"
      ]
     },
     "execution_count": 11,
     "metadata": {},
     "output_type": "execute_result"
    }
   ],
   "source": [
    "df.columns"
   ]
  },
  {
   "cell_type": "code",
   "execution_count": 12,
   "id": "8e626916",
   "metadata": {},
   "outputs": [
    {
     "data": {
      "text/plain": [
       "(458213, 18)"
      ]
     },
     "execution_count": 12,
     "metadata": {},
     "output_type": "execute_result"
    }
   ],
   "source": [
    "df.shape"
   ]
  },
  {
   "cell_type": "code",
   "execution_count": 13,
   "id": "7b64bee0",
   "metadata": {},
   "outputs": [
    {
     "data": {
      "text/html": [
       "<div>\n",
       "<style scoped>\n",
       "    .dataframe tbody tr th:only-of-type {\n",
       "        vertical-align: middle;\n",
       "    }\n",
       "\n",
       "    .dataframe tbody tr th {\n",
       "        vertical-align: top;\n",
       "    }\n",
       "\n",
       "    .dataframe thead th {\n",
       "        text-align: right;\n",
       "    }\n",
       "</style>\n",
       "<table border=\"1\" class=\"dataframe\">\n",
       "  <thead>\n",
       "    <tr style=\"text-align: right;\">\n",
       "      <th></th>\n",
       "      <th>region</th>\n",
       "      <th>price</th>\n",
       "      <th>year</th>\n",
       "      <th>manufacturer</th>\n",
       "      <th>model</th>\n",
       "      <th>condition</th>\n",
       "      <th>cylinders</th>\n",
       "      <th>fuel</th>\n",
       "      <th>odometer</th>\n",
       "      <th>title_status</th>\n",
       "      <th>transmission</th>\n",
       "      <th>drive</th>\n",
       "      <th>size</th>\n",
       "      <th>type</th>\n",
       "      <th>paint_color</th>\n",
       "      <th>state</th>\n",
       "      <th>lat</th>\n",
       "      <th>long</th>\n",
       "    </tr>\n",
       "  </thead>\n",
       "  <tbody>\n",
       "    <tr>\n",
       "      <th>0</th>\n",
       "      <td>auburn</td>\n",
       "      <td>35990</td>\n",
       "      <td>2010.0</td>\n",
       "      <td>chevrolet</td>\n",
       "      <td>corvette grand sport</td>\n",
       "      <td>good</td>\n",
       "      <td>8 cylinders</td>\n",
       "      <td>gas</td>\n",
       "      <td>32742.0</td>\n",
       "      <td>clean</td>\n",
       "      <td>other</td>\n",
       "      <td>rwd</td>\n",
       "      <td>NaN</td>\n",
       "      <td>other</td>\n",
       "      <td>NaN</td>\n",
       "      <td>al</td>\n",
       "      <td>32.590000</td>\n",
       "      <td>-85.480000</td>\n",
       "    </tr>\n",
       "    <tr>\n",
       "      <th>1</th>\n",
       "      <td>auburn</td>\n",
       "      <td>7500</td>\n",
       "      <td>2014.0</td>\n",
       "      <td>hyundai</td>\n",
       "      <td>sonata</td>\n",
       "      <td>excellent</td>\n",
       "      <td>4 cylinders</td>\n",
       "      <td>gas</td>\n",
       "      <td>93600.0</td>\n",
       "      <td>clean</td>\n",
       "      <td>automatic</td>\n",
       "      <td>fwd</td>\n",
       "      <td>NaN</td>\n",
       "      <td>sedan</td>\n",
       "      <td>NaN</td>\n",
       "      <td>al</td>\n",
       "      <td>32.547500</td>\n",
       "      <td>-85.468200</td>\n",
       "    </tr>\n",
       "    <tr>\n",
       "      <th>2</th>\n",
       "      <td>auburn</td>\n",
       "      <td>4900</td>\n",
       "      <td>2006.0</td>\n",
       "      <td>bmw</td>\n",
       "      <td>x3 3.0i</td>\n",
       "      <td>good</td>\n",
       "      <td>6 cylinders</td>\n",
       "      <td>gas</td>\n",
       "      <td>87046.0</td>\n",
       "      <td>clean</td>\n",
       "      <td>automatic</td>\n",
       "      <td>NaN</td>\n",
       "      <td>NaN</td>\n",
       "      <td>SUV</td>\n",
       "      <td>blue</td>\n",
       "      <td>al</td>\n",
       "      <td>32.616807</td>\n",
       "      <td>-85.464149</td>\n",
       "    </tr>\n",
       "    <tr>\n",
       "      <th>3</th>\n",
       "      <td>auburn</td>\n",
       "      <td>2000</td>\n",
       "      <td>1974.0</td>\n",
       "      <td>chevrolet</td>\n",
       "      <td>c-10</td>\n",
       "      <td>good</td>\n",
       "      <td>4 cylinders</td>\n",
       "      <td>gas</td>\n",
       "      <td>190000.0</td>\n",
       "      <td>clean</td>\n",
       "      <td>automatic</td>\n",
       "      <td>rwd</td>\n",
       "      <td>full-size</td>\n",
       "      <td>pickup</td>\n",
       "      <td>blue</td>\n",
       "      <td>al</td>\n",
       "      <td>32.861600</td>\n",
       "      <td>-85.216100</td>\n",
       "    </tr>\n",
       "    <tr>\n",
       "      <th>4</th>\n",
       "      <td>auburn</td>\n",
       "      <td>19500</td>\n",
       "      <td>2005.0</td>\n",
       "      <td>ford</td>\n",
       "      <td>f350 lariat</td>\n",
       "      <td>excellent</td>\n",
       "      <td>8 cylinders</td>\n",
       "      <td>diesel</td>\n",
       "      <td>116000.0</td>\n",
       "      <td>lien</td>\n",
       "      <td>automatic</td>\n",
       "      <td>4wd</td>\n",
       "      <td>full-size</td>\n",
       "      <td>pickup</td>\n",
       "      <td>blue</td>\n",
       "      <td>al</td>\n",
       "      <td>32.547500</td>\n",
       "      <td>-85.468200</td>\n",
       "    </tr>\n",
       "  </tbody>\n",
       "</table>\n",
       "</div>"
      ],
      "text/plain": [
       "   region  price    year manufacturer                 model  condition  \\\n",
       "0  auburn  35990  2010.0    chevrolet  corvette grand sport       good   \n",
       "1  auburn   7500  2014.0      hyundai                sonata  excellent   \n",
       "2  auburn   4900  2006.0          bmw               x3 3.0i       good   \n",
       "3  auburn   2000  1974.0    chevrolet                  c-10       good   \n",
       "4  auburn  19500  2005.0         ford           f350 lariat  excellent   \n",
       "\n",
       "     cylinders    fuel  odometer title_status transmission drive       size  \\\n",
       "0  8 cylinders     gas   32742.0        clean        other   rwd        NaN   \n",
       "1  4 cylinders     gas   93600.0        clean    automatic   fwd        NaN   \n",
       "2  6 cylinders     gas   87046.0        clean    automatic   NaN        NaN   \n",
       "3  4 cylinders     gas  190000.0        clean    automatic   rwd  full-size   \n",
       "4  8 cylinders  diesel  116000.0         lien    automatic   4wd  full-size   \n",
       "\n",
       "     type paint_color state        lat       long  \n",
       "0   other         NaN    al  32.590000 -85.480000  \n",
       "1   sedan         NaN    al  32.547500 -85.468200  \n",
       "2     SUV        blue    al  32.616807 -85.464149  \n",
       "3  pickup        blue    al  32.861600 -85.216100  \n",
       "4  pickup        blue    al  32.547500 -85.468200  "
      ]
     },
     "execution_count": 13,
     "metadata": {},
     "output_type": "execute_result"
    }
   ],
   "source": [
    "df[['region', 'price', 'year', 'manufacturer', 'model', 'condition',\n",
    "       'cylinders', 'fuel', 'odometer', 'title_status', 'transmission',\n",
    "       'drive', 'size', 'type', 'paint_color', 'state', 'lat',\n",
    "       'long']].head()"
   ]
  },
  {
   "cell_type": "markdown",
   "id": "5a3ab4fb",
   "metadata": {},
   "source": [
    "###### Finding NULLs in the dataset"
   ]
  },
  {
   "cell_type": "code",
   "execution_count": 14,
   "id": "05626dd2",
   "metadata": {},
   "outputs": [],
   "source": [
    "def missingValuesPercentCheck():\n",
    "    \n",
    "    column_null=df.isnull().sum()#finding the sum of total null values in the dataset\n",
    "    column_list=df.columns.values#finding the list of columns \n",
    "\n",
    "    #printing percentage of null values for each feature.\n",
    "    missing_values={'Feature':[],'Missing %':[]}\n",
    "    for i in range(len(column_list)):\n",
    "        missing_values.get('Feature').append(column_list[i])\n",
    "        missing_values.get('Missing %').append((column_null[i]/df.shape[0])*100)\n",
    "    return pd.DataFrame(missing_values)\n"
   ]
  },
  {
   "cell_type": "code",
   "execution_count": 15,
   "id": "4f47ac7a",
   "metadata": {},
   "outputs": [
    {
     "data": {
      "text/html": [
       "<div>\n",
       "<style scoped>\n",
       "    .dataframe tbody tr th:only-of-type {\n",
       "        vertical-align: middle;\n",
       "    }\n",
       "\n",
       "    .dataframe tbody tr th {\n",
       "        vertical-align: top;\n",
       "    }\n",
       "\n",
       "    .dataframe thead th {\n",
       "        text-align: right;\n",
       "    }\n",
       "</style>\n",
       "<table border=\"1\" class=\"dataframe\">\n",
       "  <thead>\n",
       "    <tr style=\"text-align: right;\">\n",
       "      <th></th>\n",
       "      <th>Feature</th>\n",
       "      <th>Missing %</th>\n",
       "    </tr>\n",
       "  </thead>\n",
       "  <tbody>\n",
       "    <tr>\n",
       "      <th>0</th>\n",
       "      <td>region</td>\n",
       "      <td>0.000000</td>\n",
       "    </tr>\n",
       "    <tr>\n",
       "      <th>1</th>\n",
       "      <td>price</td>\n",
       "      <td>0.000000</td>\n",
       "    </tr>\n",
       "    <tr>\n",
       "      <th>2</th>\n",
       "      <td>year</td>\n",
       "      <td>0.229151</td>\n",
       "    </tr>\n",
       "    <tr>\n",
       "      <th>3</th>\n",
       "      <td>manufacturer</td>\n",
       "      <td>3.976317</td>\n",
       "    </tr>\n",
       "    <tr>\n",
       "      <th>4</th>\n",
       "      <td>model</td>\n",
       "      <td>1.057587</td>\n",
       "    </tr>\n",
       "    <tr>\n",
       "      <th>5</th>\n",
       "      <td>condition</td>\n",
       "      <td>42.107055</td>\n",
       "    </tr>\n",
       "    <tr>\n",
       "      <th>6</th>\n",
       "      <td>cylinders</td>\n",
       "      <td>37.349442</td>\n",
       "    </tr>\n",
       "    <tr>\n",
       "      <th>7</th>\n",
       "      <td>fuel</td>\n",
       "      <td>0.706440</td>\n",
       "    </tr>\n",
       "    <tr>\n",
       "      <th>8</th>\n",
       "      <td>odometer</td>\n",
       "      <td>12.069278</td>\n",
       "    </tr>\n",
       "    <tr>\n",
       "      <th>9</th>\n",
       "      <td>title_status</td>\n",
       "      <td>0.562402</td>\n",
       "    </tr>\n",
       "    <tr>\n",
       "      <th>10</th>\n",
       "      <td>transmission</td>\n",
       "      <td>0.532940</td>\n",
       "    </tr>\n",
       "    <tr>\n",
       "      <th>11</th>\n",
       "      <td>drive</td>\n",
       "      <td>29.285070</td>\n",
       "    </tr>\n",
       "    <tr>\n",
       "      <th>12</th>\n",
       "      <td>size</td>\n",
       "      <td>70.130703</td>\n",
       "    </tr>\n",
       "    <tr>\n",
       "      <th>13</th>\n",
       "      <td>type</td>\n",
       "      <td>24.603841</td>\n",
       "    </tr>\n",
       "    <tr>\n",
       "      <th>14</th>\n",
       "      <td>paint_color</td>\n",
       "      <td>30.737452</td>\n",
       "    </tr>\n",
       "    <tr>\n",
       "      <th>15</th>\n",
       "      <td>state</td>\n",
       "      <td>0.000000</td>\n",
       "    </tr>\n",
       "    <tr>\n",
       "      <th>16</th>\n",
       "      <td>lat</td>\n",
       "      <td>1.625445</td>\n",
       "    </tr>\n",
       "    <tr>\n",
       "      <th>17</th>\n",
       "      <td>long</td>\n",
       "      <td>1.625445</td>\n",
       "    </tr>\n",
       "  </tbody>\n",
       "</table>\n",
       "</div>"
      ],
      "text/plain": [
       "         Feature  Missing %\n",
       "0         region   0.000000\n",
       "1          price   0.000000\n",
       "2           year   0.229151\n",
       "3   manufacturer   3.976317\n",
       "4          model   1.057587\n",
       "5      condition  42.107055\n",
       "6      cylinders  37.349442\n",
       "7           fuel   0.706440\n",
       "8       odometer  12.069278\n",
       "9   title_status   0.562402\n",
       "10  transmission   0.532940\n",
       "11         drive  29.285070\n",
       "12          size  70.130703\n",
       "13          type  24.603841\n",
       "14   paint_color  30.737452\n",
       "15         state   0.000000\n",
       "16           lat   1.625445\n",
       "17          long   1.625445"
      ]
     },
     "execution_count": 15,
     "metadata": {},
     "output_type": "execute_result"
    }
   ],
   "source": [
    "missingValuesPercentCheck()\n"
   ]
  },
  {
   "cell_type": "code",
   "execution_count": 16,
   "id": "cd56a766",
   "metadata": {},
   "outputs": [
    {
     "data": {
      "text/plain": [
       "<AxesSubplot:>"
      ]
     },
     "execution_count": 16,
     "metadata": {},
     "output_type": "execute_result"
    },
    {
     "data": {
      "image/png": "[encoded data removed]",
      "text/plain": [
       "<Figure size 864x576 with 2 Axes>"
      ]
     },
     "metadata": {
      "needs_background": "light"
     },
     "output_type": "display_data"
    }
   ],
   "source": [
    "plt.figure(figsize=(12,8))\n",
    "sns.heatmap(df.isnull(),yticklabels=False,cbar=True,cmap='tab20')"
   ]
  },
  {
   "cell_type": "markdown",
   "id": "9d4ce229",
   "metadata": {},
   "source": [
    "As we have 70% of the data in Size column as NULL, we can conclude that the Size column will not contribute towards delivering good accuracy. Hence, we decide on dropping the Size column. "
   ]
  },
  {
   "cell_type": "code",
   "execution_count": 17,
   "id": "aae96753",
   "metadata": {},
   "outputs": [],
   "source": [
    "df=df.drop('size',axis=1)"
   ]
  },
  {
   "cell_type": "code",
   "execution_count": 18,
   "id": "81d09b09",
   "metadata": {},
   "outputs": [
    {
     "data": {
      "text/plain": [
       "Index(['region', 'price', 'year', 'manufacturer', 'model', 'condition',\n",
       "       'cylinders', 'fuel', 'odometer', 'title_status', 'transmission',\n",
       "       'drive', 'type', 'paint_color', 'state', 'lat', 'long'],\n",
       "      dtype='object')"
      ]
     },
     "execution_count": 18,
     "metadata": {},
     "output_type": "execute_result"
    }
   ],
   "source": [
    "df.columns"
   ]
  },
  {
   "cell_type": "code",
   "execution_count": 19,
   "id": "e2169ec6",
   "metadata": {},
   "outputs": [
    {
     "data": {
      "text/plain": [
       "(458213, 17)"
      ]
     },
     "execution_count": 19,
     "metadata": {},
     "output_type": "execute_result"
    }
   ],
   "source": [
    "df.shape"
   ]
  },
  {
   "cell_type": "code",
   "execution_count": null,
   "id": "81c2e194",
   "metadata": {},
   "outputs": [],
   "source": []
  },
  {
   "cell_type": "markdown",
   "id": "6a6075c1",
   "metadata": {},
   "source": [
    "## NULL value removal"
   ]
  },
  {
   "cell_type": "markdown",
   "id": "f7a1d022",
   "metadata": {},
   "source": [
    "Below are the Numerical and Categorical attributes that we have in our dataset.\n",
    "From the above findings, we understand that we do not have a huge number of NULL values in Numerical attributes. To impute the available ones, we will be using Mean of the dataset.\n",
    "\n",
    "To fill the NULL values in Categorical attributes, we will be using LabelEncoder. "
   ]
  },
  {
   "cell_type": "code",
   "execution_count": 20,
   "id": "80885fab",
   "metadata": {},
   "outputs": [],
   "source": [
    "numeric_col=['year','odometer','lat','long']\n",
    "categorical_cols=['region','manufacturer','model','condition','cylinders','fuel','title_status','transmission','drive','type','paint_color', 'state']"
   ]
  },
  {
   "cell_type": "code",
   "execution_count": 21,
   "id": "432816e2",
   "metadata": {},
   "outputs": [
    {
     "data": {
      "text/plain": [
       "year         1050\n",
       "odometer    55303\n",
       "lat          7448\n",
       "long         7448\n",
       "dtype: int64"
      ]
     },
     "execution_count": 21,
     "metadata": {},
     "output_type": "execute_result"
    }
   ],
   "source": [
    "df.isnull().sum()[numeric_col]"
   ]
  },
  {
   "cell_type": "code",
   "execution_count": null,
   "id": "beefcf4b",
   "metadata": {},
   "outputs": [],
   "source": []
  },
  {
   "cell_type": "code",
   "execution_count": null,
   "id": "5351febc",
   "metadata": {},
   "outputs": [],
   "source": []
  },
  {
   "cell_type": "code",
   "execution_count": 22,
   "id": "f78a4557",
   "metadata": {},
   "outputs": [
    {
     "data": {
      "text/html": [
       "<div>\n",
       "<style scoped>\n",
       "    .dataframe tbody tr th:only-of-type {\n",
       "        vertical-align: middle;\n",
       "    }\n",
       "\n",
       "    .dataframe tbody tr th {\n",
       "        vertical-align: top;\n",
       "    }\n",
       "\n",
       "    .dataframe thead th {\n",
       "        text-align: right;\n",
       "    }\n",
       "</style>\n",
       "<table border=\"1\" class=\"dataframe\">\n",
       "  <thead>\n",
       "    <tr style=\"text-align: right;\">\n",
       "      <th></th>\n",
       "      <th>region</th>\n",
       "      <th>price</th>\n",
       "      <th>year</th>\n",
       "      <th>manufacturer</th>\n",
       "      <th>model</th>\n",
       "      <th>condition</th>\n",
       "      <th>cylinders</th>\n",
       "      <th>fuel</th>\n",
       "      <th>odometer</th>\n",
       "      <th>title_status</th>\n",
       "      <th>transmission</th>\n",
       "      <th>drive</th>\n",
       "      <th>type</th>\n",
       "      <th>paint_color</th>\n",
       "      <th>state</th>\n",
       "      <th>lat</th>\n",
       "      <th>long</th>\n",
       "    </tr>\n",
       "  </thead>\n",
       "  <tbody>\n",
       "    <tr>\n",
       "      <th>458208</th>\n",
       "      <td>wausau</td>\n",
       "      <td>14995</td>\n",
       "      <td>2014.0</td>\n",
       "      <td>cadillac</td>\n",
       "      <td>srx</td>\n",
       "      <td>excellent</td>\n",
       "      <td>6 cylinders</td>\n",
       "      <td>gas</td>\n",
       "      <td>83790.0</td>\n",
       "      <td>clean</td>\n",
       "      <td>automatic</td>\n",
       "      <td>4wd</td>\n",
       "      <td>SUV</td>\n",
       "      <td>silver</td>\n",
       "      <td>wi</td>\n",
       "      <td>44.408867</td>\n",
       "      <td>-89.881210</td>\n",
       "    </tr>\n",
       "    <tr>\n",
       "      <th>458209</th>\n",
       "      <td>wausau</td>\n",
       "      <td>17895</td>\n",
       "      <td>2018.0</td>\n",
       "      <td>hyundai</td>\n",
       "      <td>tucson</td>\n",
       "      <td>excellent</td>\n",
       "      <td>4 cylinders</td>\n",
       "      <td>gas</td>\n",
       "      <td>31888.0</td>\n",
       "      <td>clean</td>\n",
       "      <td>automatic</td>\n",
       "      <td>4wd</td>\n",
       "      <td>SUV</td>\n",
       "      <td>white</td>\n",
       "      <td>wi</td>\n",
       "      <td>44.408867</td>\n",
       "      <td>-89.882240</td>\n",
       "    </tr>\n",
       "    <tr>\n",
       "      <th>458210</th>\n",
       "      <td>wyoming</td>\n",
       "      <td>17900</td>\n",
       "      <td>2014.0</td>\n",
       "      <td>cadillac</td>\n",
       "      <td>cts coupe awd</td>\n",
       "      <td>excellent</td>\n",
       "      <td>6 cylinders</td>\n",
       "      <td>gas</td>\n",
       "      <td>53000.0</td>\n",
       "      <td>clean</td>\n",
       "      <td>automatic</td>\n",
       "      <td>4wd</td>\n",
       "      <td>coupe</td>\n",
       "      <td>black</td>\n",
       "      <td>wy</td>\n",
       "      <td>44.784900</td>\n",
       "      <td>-106.964800</td>\n",
       "    </tr>\n",
       "    <tr>\n",
       "      <th>458211</th>\n",
       "      <td>wyoming</td>\n",
       "      <td>1300</td>\n",
       "      <td>2008.0</td>\n",
       "      <td>jeep</td>\n",
       "      <td>grand cherokee</td>\n",
       "      <td>good</td>\n",
       "      <td>8 cylinders</td>\n",
       "      <td>gas</td>\n",
       "      <td>164000.0</td>\n",
       "      <td>clean</td>\n",
       "      <td>automatic</td>\n",
       "      <td>4wd</td>\n",
       "      <td>SUV</td>\n",
       "      <td>white</td>\n",
       "      <td>wy</td>\n",
       "      <td>44.773500</td>\n",
       "      <td>-106.939600</td>\n",
       "    </tr>\n",
       "    <tr>\n",
       "      <th>458212</th>\n",
       "      <td>wyoming</td>\n",
       "      <td>22900</td>\n",
       "      <td>2008.0</td>\n",
       "      <td>NaN</td>\n",
       "      <td>International 4300</td>\n",
       "      <td>NaN</td>\n",
       "      <td>NaN</td>\n",
       "      <td>diesel</td>\n",
       "      <td>164000.0</td>\n",
       "      <td>clean</td>\n",
       "      <td>automatic</td>\n",
       "      <td>NaN</td>\n",
       "      <td>NaN</td>\n",
       "      <td>NaN</td>\n",
       "      <td>wy</td>\n",
       "      <td>42.117656</td>\n",
       "      <td>-88.436954</td>\n",
       "    </tr>\n",
       "  </tbody>\n",
       "</table>\n",
       "</div>"
      ],
      "text/plain": [
       "         region  price    year manufacturer               model  condition  \\\n",
       "458208   wausau  14995  2014.0     cadillac                 srx  excellent   \n",
       "458209   wausau  17895  2018.0      hyundai              tucson  excellent   \n",
       "458210  wyoming  17900  2014.0     cadillac       cts coupe awd  excellent   \n",
       "458211  wyoming   1300  2008.0         jeep      grand cherokee       good   \n",
       "458212  wyoming  22900  2008.0          NaN  International 4300        NaN   \n",
       "\n",
       "          cylinders    fuel  odometer title_status transmission drive   type  \\\n",
       "458208  6 cylinders     gas   83790.0        clean    automatic   4wd    SUV   \n",
       "458209  4 cylinders     gas   31888.0        clean    automatic   4wd    SUV   \n",
       "458210  6 cylinders     gas   53000.0        clean    automatic   4wd  coupe   \n",
       "458211  8 cylinders     gas  164000.0        clean    automatic   4wd    SUV   \n",
       "458212          NaN  diesel  164000.0        clean    automatic   NaN    NaN   \n",
       "\n",
       "       paint_color state        lat        long  \n",
       "458208      silver    wi  44.408867  -89.881210  \n",
       "458209       white    wi  44.408867  -89.882240  \n",
       "458210       black    wy  44.784900 -106.964800  \n",
       "458211       white    wy  44.773500 -106.939600  \n",
       "458212         NaN    wy  42.117656  -88.436954  "
      ]
     },
     "execution_count": 22,
     "metadata": {},
     "output_type": "execute_result"
    }
   ],
   "source": [
    "df.tail()"
   ]
  },
  {
   "cell_type": "code",
   "execution_count": 23,
   "id": "eebc1351",
   "metadata": {},
   "outputs": [
    {
     "data": {
      "text/plain": [
       "year          2010.746067\n",
       "odometer    101669.756941\n",
       "lat             38.531925\n",
       "long           -94.375824\n",
       "dtype: float64"
      ]
     },
     "execution_count": 23,
     "metadata": {},
     "output_type": "execute_result"
    }
   ],
   "source": [
    "df[['year','odometer','lat','long']].mean()"
   ]
  },
  {
   "cell_type": "code",
   "execution_count": 24,
   "id": "f5a93c88",
   "metadata": {},
   "outputs": [
    {
     "data": {
      "text/plain": [
       "dtype('float64')"
      ]
     },
     "execution_count": 24,
     "metadata": {},
     "output_type": "execute_result"
    }
   ],
   "source": [
    "df['lat'].dtype"
   ]
  },
  {
   "cell_type": "markdown",
   "id": "4de10392",
   "metadata": {},
   "source": [
    "#### Removing NULLs from Numeric columns below"
   ]
  },
  {
   "cell_type": "code",
   "execution_count": 25,
   "id": "b75c941e",
   "metadata": {},
   "outputs": [],
   "source": [
    "df[\"year\"]=df[\"year\"].fillna(df[\"year\"].mean().astype('int'))\n",
    "\n",
    "odoMean=df['odometer'].mean()\n",
    "odoMean1=float(round(odoMean))\n",
    "df[\"odometer\"]=df[\"odometer\"].fillna(odoMean1)\n",
    "\n",
    "df[\"lat\"]=df[\"lat\"].fillna(df[\"lat\"].mean())\n",
    "df[\"long\"]=df[\"long\"].fillna(df[\"long\"].mean())\n"
   ]
  },
  {
   "cell_type": "code",
   "execution_count": null,
   "id": "8212f145",
   "metadata": {},
   "outputs": [],
   "source": []
  },
  {
   "cell_type": "code",
   "execution_count": 30,
   "id": "6db2f1db",
   "metadata": {},
   "outputs": [
    {
     "data": {
      "text/plain": [
       "year        0\n",
       "odometer    0\n",
       "lat         0\n",
       "long        0\n",
       "dtype: int64"
      ]
     },
     "execution_count": 30,
     "metadata": {},
     "output_type": "execute_result"
    }
   ],
   "source": [
    "df.isnull().sum()[numeric_col]"
   ]
  },
  {
   "cell_type": "code",
   "execution_count": null,
   "id": "0eff963d",
   "metadata": {},
   "outputs": [],
   "source": []
  },
  {
   "cell_type": "code",
   "execution_count": null,
   "id": "2a8c4901",
   "metadata": {},
   "outputs": [],
   "source": []
  },
  {
   "cell_type": "markdown",
   "id": "bfc6889c",
   "metadata": {},
   "source": [
    "### Imputer Method for Categorical attributes"
   ]
  },
  {
   "cell_type": "code",
   "execution_count": 31,
   "id": "542a818b",
   "metadata": {},
   "outputs": [],
   "source": [
    "\n",
    "from sklearn.preprocessing import OrdinalEncoder\n",
    "from sklearn import preprocessing\n",
    "from tqdm import tqdm\n",
    "\n",
    "from sklearn.experimental import enable_iterative_imputer\n",
    "from sklearn.impute import IterativeImputer\n",
    "from sklearn.linear_model import BayesianRidge"
   ]
  },
  {
   "cell_type": "code",
   "execution_count": 32,
   "id": "c0d6de3d",
   "metadata": {},
   "outputs": [
    {
     "name": "stderr",
     "output_type": "stream",
     "text": [
      "  0%|                                                                                           | 0/12 [00:00<?, ?it/s]C:\\Users\\kunal\\AppData\\Roaming\\Python\\Python39\\site-packages\\sklearn\\preprocessing\\_label.py:115: DataConversionWarning: A column-vector y was passed when a 1d array was expected. Please change the shape of y to (n_samples, ), for example using ravel().\n",
      "  y = column_or_1d(y, warn=True)\n",
      "C:\\Users\\kunal\\AppData\\Roaming\\Python\\Python39\\site-packages\\pandas\\core\\indexing.py:1732: SettingWithCopyWarning: \n",
      "A value is trying to be set on a copy of a slice from a DataFrame\n",
      "\n",
      "See the caveats in the documentation: https://pandas.pydata.org/pandas-docs/stable/user_guide/indexing.html#returning-a-view-versus-a-copy\n",
      "  self._setitem_single_block(indexer, value, name)\n",
      "100%|██████████████████████████████████████████████████████████████████████████████████| 12/12 [00:04<00:00,  2.72it/s]\n"
     ]
    }
   ],
   "source": [
    "check_imputer=df.copy()\n",
    "#check_imputer=check_imputer.drop(columns=['id'])\n",
    "\n",
    "#object of LabelEncoder\n",
    "encoder=preprocessing.LabelEncoder()\n",
    "\n",
    "#function to label the categorical columns ignoring null values \n",
    "def encode(data):\n",
    "    #retains only non-null values\n",
    "    nonulls = np.array(data.dropna())\n",
    "    #reshapes the data for encoding\n",
    "    impute_reshape = nonulls.reshape(-1,1)\n",
    "    #encode date\n",
    "    impute_ordinal = encoder.fit_transform(impute_reshape)\n",
    "    #Assign back encoded values to non-null values\n",
    "    data.loc[data.notnull()] = np.squeeze(impute_ordinal)\n",
    "    return data\n",
    "\n",
    "#loop to label each column or categorical values into numberic\n",
    "for i in tqdm(range(len(categorical_cols))):\n",
    "    encode(check_imputer[categorical_cols[i]])"
   ]
  },
  {
   "cell_type": "markdown",
   "id": "cd66430c",
   "metadata": {},
   "source": [
    "### Imputing NULLs in Categorical columns"
   ]
  },
  {
   "cell_type": "code",
   "execution_count": 33,
   "id": "5ebaf369",
   "metadata": {},
   "outputs": [
    {
     "data": {
      "text/plain": [
       "region               0\n",
       "manufacturer     18220\n",
       "model             4846\n",
       "condition       192940\n",
       "cylinders       171140\n",
       "fuel              3237\n",
       "title_status      2577\n",
       "transmission      2442\n",
       "drive           134188\n",
       "type            112738\n",
       "paint_color     140843\n",
       "state                0\n",
       "dtype: int64"
      ]
     },
     "execution_count": 33,
     "metadata": {},
     "output_type": "execute_result"
    }
   ],
   "source": [
    "\n",
    "df.isnull().sum()[categorical_cols]"
   ]
  },
  {
   "cell_type": "code",
   "execution_count": null,
   "id": "69b9bc59",
   "metadata": {},
   "outputs": [
    {
     "name": "stderr",
     "output_type": "stream",
     "text": [
      "C:\\Users\\kunal\\AppData\\Roaming\\Python\\Python39\\site-packages\\sklearn\\preprocessing\\_label.py:154: DataConversionWarning: A column-vector y was passed when a 1d array was expected. Please change the shape of y to (n_samples, ), for example using ravel().\n",
      "  y = column_or_1d(y, warn=True)\n",
      "<ipython-input-34-a5e19913aa44>:12: SettingWithCopyWarning: \n",
      "A value is trying to be set on a copy of a slice from a DataFrame.\n",
      "Try using .loc[row_indexer,col_indexer] = value instead\n",
      "\n",
      "See the caveats in the documentation: https://pandas.pydata.org/pandas-docs/stable/user_guide/indexing.html#returning-a-view-versus-a-copy\n",
      "  categoricalData[columns]=impute_data\n",
      "C:\\Users\\kunal\\AppData\\Roaming\\Python\\Python39\\site-packages\\sklearn\\preprocessing\\_label.py:115: DataConversionWarning: A column-vector y was passed when a 1d array was expected. Please change the shape of y to (n_samples, ), for example using ravel().\n",
      "  y = column_or_1d(y, warn=True)\n"
     ]
    }
   ],
   "source": [
    "categoricalData=df[categorical_cols]\n",
    "encoder=preprocessing.LabelEncoder()\n",
    "\n",
    "#create a for loop to iterate through each column in the data\n",
    "for columns in categorical_cols:\n",
    "    encode(categoricalData[columns])\n",
    "    imputer = IterativeImputer(BayesianRidge())\n",
    "    impute_data=imputer.fit_transform(categoricalData[columns].values.reshape(-1, 1))\n",
    "    impute_data=impute_data.astype('int64')\n",
    "    impute_data = pd.DataFrame(impute_data)\n",
    "    impute_data =encoder.inverse_transform(impute_data.values.reshape(-1, 1))\n",
    "    categoricalData[columns]=impute_data\n",
    "df[categorical_cols]=categoricalData   "
   ]
  },
  {
   "cell_type": "code",
   "execution_count": 133,
   "id": "68bff733",
   "metadata": {},
   "outputs": [
    {
     "data": {
      "text/plain": [
       "region          0\n",
       "manufacturer    0\n",
       "model           0\n",
       "condition       0\n",
       "cylinders       0\n",
       "fuel            0\n",
       "title_status    0\n",
       "transmission    0\n",
       "drive           0\n",
       "type            0\n",
       "paint_color     0\n",
       "state           0\n",
       "dtype: int64"
      ]
     },
     "execution_count": 133,
     "metadata": {},
     "output_type": "execute_result"
    }
   ],
   "source": [
    "#Missing values after filling\n",
    "df.isnull().sum()[categorical_cols]"
   ]
  },
  {
   "cell_type": "code",
   "execution_count": null,
   "id": "76d452d5",
   "metadata": {},
   "outputs": [],
   "source": []
  },
  {
   "cell_type": "markdown",
   "id": "f9c0a441",
   "metadata": {},
   "source": [
    "## Outlier detection and removal"
   ]
  },
  {
   "cell_type": "code",
   "execution_count": null,
   "id": "c05cee3d",
   "metadata": {},
   "outputs": [],
   "source": []
  },
  {
   "cell_type": "code",
   "execution_count": null,
   "id": "a9ebe229",
   "metadata": {},
   "outputs": [],
   "source": [
    "plt.figure(figsize=(12,8))\n",
    "plt.boxplot(df['owned_hotels'])"
   ]
  },
  {
   "cell_type": "code",
   "execution_count": null,
   "id": "6805c287",
   "metadata": {},
   "outputs": [],
   "source": []
  },
  {
   "cell_type": "code",
   "execution_count": null,
   "id": "0627476a",
   "metadata": {},
   "outputs": [],
   "source": []
  },
  {
   "cell_type": "code",
   "execution_count": null,
   "id": "a65ba463",
   "metadata": {},
   "outputs": [],
   "source": []
  },
  {
   "cell_type": "code",
   "execution_count": null,
   "id": "e1b8bc5e",
   "metadata": {},
   "outputs": [],
   "source": []
  },
  {
   "cell_type": "code",
   "execution_count": 134,
   "id": "0c5264db",
   "metadata": {},
   "outputs": [],
   "source": [
    "def outliers(arr,col):\n",
    "    x=sorted(arr[col].values.ravel())\n",
    "    L_25=25/100*(len(x)+1) #L_p where p=25%\n",
    "    i_p=int(str(L_25).split(\".\")[0])\n",
    "    f_p=int(str(L_25).split(\".\")[1])\n",
    "    q1=x[i_p]+f_p*(x[i_p+1]-x[i_p])\n",
    "    \n",
    "    L_75=75/100*(len(x)+1) #L_p where p=75%\n",
    "    i_p=int(str(L_75).split(\".\")[0])\n",
    "    f_p=int(str(L_75).split(\".\")[1])\n",
    "    q3=x[i_p]+f_p*(x[i_p+1]-x[i_p])\n",
    "    \n",
    "    #q1,q3=(arr[col].quantile([0.25,0.75]))\n",
    "    \n",
    "    IQR=q3-q1\n",
    "    x1=q1-1.5*IQR\n",
    "    x2=q3+1.5*IQR\n",
    "    return (x1,x2)"
   ]
  },
  {
   "cell_type": "code",
   "execution_count": 135,
   "id": "1675d71d",
   "metadata": {},
   "outputs": [
    {
     "name": "stderr",
     "output_type": "stream",
     "text": [
      "C:\\Users\\kunal\\AppData\\Roaming\\Python\\Python39\\site-packages\\pandas\\core\\arraylike.py:364: RuntimeWarning: divide by zero encountered in log\n",
      "  result = getattr(ufunc, method)(*inputs, **kwargs)\n"
     ]
    },
    {
     "data": {
      "image/png": "[encoded data removed]",
      "text/plain": [
       "<Figure size 432x288 with 1 Axes>"
      ]
     },
     "metadata": {
      "needs_background": "light"
     },
     "output_type": "display_data"
    }
   ],
   "source": [
    "def min_max_price(df):\n",
    "    r=[]\n",
    "    q1,q3=(df['logprice'].quantile([0.25,0.75]))\n",
    "    r.append(q1-1.5*(q3-q1))\n",
    "    r.append(q3+1.5*(q3-q1))\n",
    "    return (r)\n",
    "df['logprice'] = np.log(df['price'])\n",
    "x=df['logprice']\n",
    "price_range=list(range(0,int(max(df['logprice']))+1))\n",
    "red_square = dict(markerfacecolor='g', marker='s')\n",
    "plt.boxplot(x, vert=False)\n",
    "plt.xticks(price_range)\n",
    "plt.text(min_max_price(df)[0]-0.3,1.05,str(round(min_max_price(df)[0],2)))\n",
    "plt.text(min_max_price(df)[1]-0.5,1.05,str(round(min_max_price(df)[1],2)))\n",
    "plt.title(\"Figure 1: Box Plot of Price\")\n",
    "plt.savefig('graph-boxplot-price.jpg')\n",
    "plt.show()"
   ]
  },
  {
   "cell_type": "code",
   "execution_count": 136,
   "id": "a53eea72",
   "metadata": {},
   "outputs": [
    {
     "data": {
      "image/png": "[encoded data removed]",
      "text/plain": [
       "<Figure size 432x288 with 1 Axes>"
      ]
     },
     "metadata": {
      "needs_background": "light"
     },
     "output_type": "display_data"
    }
   ],
   "source": [
    "fig, ax1 = plt.subplots()\n",
    "ax1.set_title('Figure 2: Box Plot of Odometer')\n",
    "ax1.boxplot(df['odometer'], vert=False, flierprops=red_square)\n",
    "plt.savefig('graph-boxplot-odometer.jpg')\n",
    "plt.show()"
   ]
  },
  {
   "cell_type": "code",
   "execution_count": 137,
   "id": "9215b5f7",
   "metadata": {},
   "outputs": [
    {
     "data": {
      "image/png": "[encoded data removed]",
      "text/plain": [
       "<Figure size 864x360 with 2 Axes>"
      ]
     },
     "metadata": {
      "needs_background": "light"
     },
     "output_type": "display_data"
    }
   ],
   "source": [
    "fig,(ax1,ax2)=plt.subplots(ncols=2,figsize=(12,5))\n",
    "\n",
    "#ploting boxplot\n",
    "o1,o2=outliers(df,'year')\n",
    "ax1.boxplot(sorted(df['year']), vert=False, flierprops=red_square)\n",
    "ax1.set_xlabel(\"Years\")\n",
    "ax1.set_title(\"Figure 3: Box Plot of Year\")\n",
    "ax1.text(o1-8,1.05,str(round(o1,2)))\n",
    "\n",
    "#ploting histogram\n",
    "hist,bins=np.histogram(df['year'])\n",
    "n, bins, patches = ax2.hist(x=df['year'], bins=bins)\n",
    "ax2.set_xlabel(\"Years\")\n",
    "ax2.set_title(\"Figure 4: Histogram of Year\")\n",
    "for i in range(len(n)):\n",
    "    if(n[i]>2000):\n",
    "        ax2.text(bins[i],n[i]+3000,str(n[i]))\n",
    "\n",
    "plt.tight_layout()\n",
    "plt.savefig('graph-barplot-histogram-year.jpg',dpi=1200)\n",
    "plt.show()"
   ]
  },
  {
   "cell_type": "code",
   "execution_count": null,
   "id": "10bc8014",
   "metadata": {},
   "outputs": [],
   "source": []
  },
  {
   "cell_type": "code",
   "execution_count": 138,
   "id": "67c8cf7d",
   "metadata": {},
   "outputs": [
    {
     "name": "stdout",
     "output_type": "stream",
     "text": [
      "IQR of logprice = 6.279112766851223 12.19345334617788\n",
      "IQR of odometer = -74955.0 252973.0\n",
      "IQR of year = 1996.0 2028.0\n"
     ]
    }
   ],
   "source": [
    "#removing outliers \n",
    "df_new=df.copy()\n",
    "out=np.array(['logprice','odometer','year'])\n",
    "for col in out:\n",
    "    o1,o2=outliers(df_new,col)\n",
    "    df_new=df_new[(df_new[col]>=o1) & (df_new[col]<=o2)]\n",
    "    print('IQR of',col,'=',o1,o2)\n",
    "df_new=df_new[df_new['price']!=0]\n",
    "df_new.drop('logprice',axis=1,inplace=True)"
   ]
  },
  {
   "cell_type": "code",
   "execution_count": 139,
   "id": "051b2972",
   "metadata": {},
   "outputs": [
    {
     "data": {
      "text/html": [
       "<div>\n",
       "<style scoped>\n",
       "    .dataframe tbody tr th:only-of-type {\n",
       "        vertical-align: middle;\n",
       "    }\n",
       "\n",
       "    .dataframe tbody tr th {\n",
       "        vertical-align: top;\n",
       "    }\n",
       "\n",
       "    .dataframe thead th {\n",
       "        text-align: right;\n",
       "    }\n",
       "</style>\n",
       "<table border=\"1\" class=\"dataframe\">\n",
       "  <thead>\n",
       "    <tr style=\"text-align: right;\">\n",
       "      <th></th>\n",
       "      <th>region</th>\n",
       "      <th>price</th>\n",
       "      <th>year</th>\n",
       "      <th>manufacturer</th>\n",
       "      <th>model</th>\n",
       "      <th>condition</th>\n",
       "      <th>cylinders</th>\n",
       "      <th>fuel</th>\n",
       "      <th>odometer</th>\n",
       "      <th>title_status</th>\n",
       "      <th>transmission</th>\n",
       "      <th>drive</th>\n",
       "      <th>type</th>\n",
       "      <th>paint_color</th>\n",
       "      <th>state</th>\n",
       "      <th>lat</th>\n",
       "      <th>long</th>\n",
       "    </tr>\n",
       "  </thead>\n",
       "  <tbody>\n",
       "    <tr>\n",
       "      <th>0</th>\n",
       "      <td>auburn</td>\n",
       "      <td>35990</td>\n",
       "      <td>2010.0</td>\n",
       "      <td>chevrolet</td>\n",
       "      <td>corvette grand sport</td>\n",
       "      <td>good</td>\n",
       "      <td>8 cylinders</td>\n",
       "      <td>gas</td>\n",
       "      <td>32742.0</td>\n",
       "      <td>clean</td>\n",
       "      <td>other</td>\n",
       "      <td>rwd</td>\n",
       "      <td>other</td>\n",
       "      <td>grey</td>\n",
       "      <td>al</td>\n",
       "      <td>32.590000</td>\n",
       "      <td>-85.480000</td>\n",
       "    </tr>\n",
       "    <tr>\n",
       "      <th>1</th>\n",
       "      <td>auburn</td>\n",
       "      <td>7500</td>\n",
       "      <td>2014.0</td>\n",
       "      <td>hyundai</td>\n",
       "      <td>sonata</td>\n",
       "      <td>excellent</td>\n",
       "      <td>4 cylinders</td>\n",
       "      <td>gas</td>\n",
       "      <td>93600.0</td>\n",
       "      <td>clean</td>\n",
       "      <td>automatic</td>\n",
       "      <td>fwd</td>\n",
       "      <td>sedan</td>\n",
       "      <td>grey</td>\n",
       "      <td>al</td>\n",
       "      <td>32.547500</td>\n",
       "      <td>-85.468200</td>\n",
       "    </tr>\n",
       "    <tr>\n",
       "      <th>2</th>\n",
       "      <td>auburn</td>\n",
       "      <td>4900</td>\n",
       "      <td>2006.0</td>\n",
       "      <td>bmw</td>\n",
       "      <td>x3 3.0i</td>\n",
       "      <td>good</td>\n",
       "      <td>6 cylinders</td>\n",
       "      <td>gas</td>\n",
       "      <td>87046.0</td>\n",
       "      <td>clean</td>\n",
       "      <td>automatic</td>\n",
       "      <td>4wd</td>\n",
       "      <td>SUV</td>\n",
       "      <td>blue</td>\n",
       "      <td>al</td>\n",
       "      <td>32.616807</td>\n",
       "      <td>-85.464149</td>\n",
       "    </tr>\n",
       "    <tr>\n",
       "      <th>4</th>\n",
       "      <td>auburn</td>\n",
       "      <td>19500</td>\n",
       "      <td>2005.0</td>\n",
       "      <td>ford</td>\n",
       "      <td>f350 lariat</td>\n",
       "      <td>excellent</td>\n",
       "      <td>8 cylinders</td>\n",
       "      <td>diesel</td>\n",
       "      <td>116000.0</td>\n",
       "      <td>lien</td>\n",
       "      <td>automatic</td>\n",
       "      <td>4wd</td>\n",
       "      <td>pickup</td>\n",
       "      <td>blue</td>\n",
       "      <td>al</td>\n",
       "      <td>32.547500</td>\n",
       "      <td>-85.468200</td>\n",
       "    </tr>\n",
       "    <tr>\n",
       "      <th>5</th>\n",
       "      <td>auburn</td>\n",
       "      <td>29590</td>\n",
       "      <td>2016.0</td>\n",
       "      <td>toyota</td>\n",
       "      <td>tacoma double cab sr5</td>\n",
       "      <td>good</td>\n",
       "      <td>6 cylinders</td>\n",
       "      <td>gas</td>\n",
       "      <td>33290.0</td>\n",
       "      <td>clean</td>\n",
       "      <td>other</td>\n",
       "      <td>4wd</td>\n",
       "      <td>pickup</td>\n",
       "      <td>red</td>\n",
       "      <td>al</td>\n",
       "      <td>32.590000</td>\n",
       "      <td>-85.480000</td>\n",
       "    </tr>\n",
       "  </tbody>\n",
       "</table>\n",
       "</div>"
      ],
      "text/plain": [
       "   region  price    year manufacturer                  model  condition  \\\n",
       "0  auburn  35990  2010.0    chevrolet   corvette grand sport       good   \n",
       "1  auburn   7500  2014.0      hyundai                 sonata  excellent   \n",
       "2  auburn   4900  2006.0          bmw                x3 3.0i       good   \n",
       "4  auburn  19500  2005.0         ford            f350 lariat  excellent   \n",
       "5  auburn  29590  2016.0       toyota  tacoma double cab sr5       good   \n",
       "\n",
       "     cylinders    fuel  odometer title_status transmission drive    type  \\\n",
       "0  8 cylinders     gas   32742.0        clean        other   rwd   other   \n",
       "1  4 cylinders     gas   93600.0        clean    automatic   fwd   sedan   \n",
       "2  6 cylinders     gas   87046.0        clean    automatic   4wd     SUV   \n",
       "4  8 cylinders  diesel  116000.0         lien    automatic   4wd  pickup   \n",
       "5  6 cylinders     gas   33290.0        clean        other   4wd  pickup   \n",
       "\n",
       "  paint_color state        lat       long  \n",
       "0        grey    al  32.590000 -85.480000  \n",
       "1        grey    al  32.547500 -85.468200  \n",
       "2        blue    al  32.616807 -85.464149  \n",
       "4        blue    al  32.547500 -85.468200  \n",
       "5         red    al  32.590000 -85.480000  "
      ]
     },
     "execution_count": 139,
     "metadata": {},
     "output_type": "execute_result"
    }
   ],
   "source": [
    "df_new.head()"
   ]
  },
  {
   "cell_type": "code",
   "execution_count": 140,
   "id": "587e599a",
   "metadata": {},
   "outputs": [],
   "source": [
    "df=df_new.copy()"
   ]
  },
  {
   "cell_type": "markdown",
   "id": "711a1701",
   "metadata": {},
   "source": []
  },
  {
   "cell_type": "markdown",
   "id": "53f791f1",
   "metadata": {},
   "source": [
    "## Label Encoding to convert Categorical to numeric"
   ]
  },
  {
   "cell_type": "code",
   "execution_count": 141,
   "id": "22203dea",
   "metadata": {},
   "outputs": [],
   "source": [
    "le=preprocessing.LabelEncoder()\n",
    "df[categorical_cols]=df[categorical_cols].apply(le.fit_transform)"
   ]
  },
  {
   "cell_type": "code",
   "execution_count": 142,
   "id": "d3707176",
   "metadata": {
    "scrolled": true
   },
   "outputs": [
    {
     "data": {
      "text/html": [
       "<div>\n",
       "<style scoped>\n",
       "    .dataframe tbody tr th:only-of-type {\n",
       "        vertical-align: middle;\n",
       "    }\n",
       "\n",
       "    .dataframe tbody tr th {\n",
       "        vertical-align: top;\n",
       "    }\n",
       "\n",
       "    .dataframe thead th {\n",
       "        text-align: right;\n",
       "    }\n",
       "</style>\n",
       "<table border=\"1\" class=\"dataframe\">\n",
       "  <thead>\n",
       "    <tr style=\"text-align: right;\">\n",
       "      <th></th>\n",
       "      <th>region</th>\n",
       "      <th>price</th>\n",
       "      <th>year</th>\n",
       "      <th>manufacturer</th>\n",
       "      <th>model</th>\n",
       "      <th>condition</th>\n",
       "      <th>cylinders</th>\n",
       "      <th>fuel</th>\n",
       "      <th>odometer</th>\n",
       "      <th>title_status</th>\n",
       "      <th>transmission</th>\n",
       "      <th>drive</th>\n",
       "      <th>type</th>\n",
       "      <th>paint_color</th>\n",
       "      <th>state</th>\n",
       "      <th>lat</th>\n",
       "      <th>long</th>\n",
       "    </tr>\n",
       "  </thead>\n",
       "  <tbody>\n",
       "    <tr>\n",
       "      <th>0</th>\n",
       "      <td>16</td>\n",
       "      <td>35990</td>\n",
       "      <td>2010.0</td>\n",
       "      <td>7</td>\n",
       "      <td>9060</td>\n",
       "      <td>2</td>\n",
       "      <td>6</td>\n",
       "      <td>2</td>\n",
       "      <td>32742.0</td>\n",
       "      <td>0</td>\n",
       "      <td>2</td>\n",
       "      <td>2</td>\n",
       "      <td>7</td>\n",
       "      <td>5</td>\n",
       "      <td>1</td>\n",
       "      <td>32.5900</td>\n",
       "      <td>-85.4800</td>\n",
       "    </tr>\n",
       "    <tr>\n",
       "      <th>1</th>\n",
       "      <td>16</td>\n",
       "      <td>7500</td>\n",
       "      <td>2014.0</td>\n",
       "      <td>18</td>\n",
       "      <td>21800</td>\n",
       "      <td>0</td>\n",
       "      <td>3</td>\n",
       "      <td>2</td>\n",
       "      <td>93600.0</td>\n",
       "      <td>0</td>\n",
       "      <td>0</td>\n",
       "      <td>1</td>\n",
       "      <td>9</td>\n",
       "      <td>5</td>\n",
       "      <td>1</td>\n",
       "      <td>32.5475</td>\n",
       "      <td>-85.4682</td>\n",
       "    </tr>\n",
       "  </tbody>\n",
       "</table>\n",
       "</div>"
      ],
      "text/plain": [
       "   region  price    year  manufacturer  model  condition  cylinders  fuel  \\\n",
       "0      16  35990  2010.0             7   9060          2          6     2   \n",
       "1      16   7500  2014.0            18  21800          0          3     2   \n",
       "\n",
       "   odometer  title_status  transmission  drive  type  paint_color  state  \\\n",
       "0   32742.0             0             2      2     7            5      1   \n",
       "1   93600.0             0             0      1     9            5      1   \n",
       "\n",
       "       lat     long  \n",
       "0  32.5900 -85.4800  \n",
       "1  32.5475 -85.4682  "
      ]
     },
     "execution_count": 142,
     "metadata": {},
     "output_type": "execute_result"
    }
   ],
   "source": [
    "df.head(2)"
   ]
  },
  {
   "cell_type": "code",
   "execution_count": null,
   "id": "3f32c162",
   "metadata": {},
   "outputs": [],
   "source": []
  },
  {
   "cell_type": "code",
   "execution_count": null,
   "id": "0eed81e6",
   "metadata": {},
   "outputs": [],
   "source": []
  },
  {
   "cell_type": "markdown",
   "id": "210577d3",
   "metadata": {},
   "source": [
    "## Data Scaling"
   ]
  },
  {
   "cell_type": "code",
   "execution_count": 143,
   "id": "9d66913d",
   "metadata": {},
   "outputs": [],
   "source": [
    "\n",
    "from sklearn.preprocessing import StandardScaler\n",
    "from sklearn.preprocessing import MinMaxScaler"
   ]
  },
  {
   "cell_type": "code",
   "execution_count": 144,
   "id": "d8d07dcb",
   "metadata": {},
   "outputs": [],
   "source": [
    "norm = StandardScaler()\n",
    "df['price'] = np.log(df['price'])\n",
    "df['odometer'] = norm.fit_transform(np.array(df['odometer']).reshape(-1,1))\n",
    "df['year'] = norm.fit_transform(np.array(df['year']).reshape(-1,1))\n",
    "df['model'] = norm.fit_transform(np.array(df['model']).reshape(-1,1))\n",
    "\n",
    "#scaling target variable\n",
    "q1,q3=(df['price'].quantile([0.25,0.75]))\n",
    "o1=q1-1.5*(q3-q1)\n",
    "o2=q3+1.5*(q3-q1)\n",
    "df=df[(df.price>=o1) & (df.price<=o2)]\n",
    "\n",
    "df['region'] = norm.fit_transform(np.array(df['region']).reshape(-1,1))\n",
    "df['lat'] = norm.fit_transform(np.array(df['lat']).reshape(-1,1))\n",
    "df['long'] = norm.fit_transform(np.array(df['long']).reshape(-1,1))"
   ]
  },
  {
   "cell_type": "code",
   "execution_count": null,
   "id": "6c1e2b28",
   "metadata": {},
   "outputs": [],
   "source": []
  },
  {
   "cell_type": "code",
   "execution_count": 171,
   "id": "7feaf57c",
   "metadata": {},
   "outputs": [
    {
     "data": {
      "text/html": [
       "<div>\n",
       "<style scoped>\n",
       "    .dataframe tbody tr th:only-of-type {\n",
       "        vertical-align: middle;\n",
       "    }\n",
       "\n",
       "    .dataframe tbody tr th {\n",
       "        vertical-align: top;\n",
       "    }\n",
       "\n",
       "    .dataframe thead th {\n",
       "        text-align: right;\n",
       "    }\n",
       "</style>\n",
       "<table border=\"1\" class=\"dataframe\">\n",
       "  <thead>\n",
       "    <tr style=\"text-align: right;\">\n",
       "      <th></th>\n",
       "      <th>region</th>\n",
       "      <th>price</th>\n",
       "      <th>year</th>\n",
       "      <th>manufacturer</th>\n",
       "      <th>model</th>\n",
       "      <th>condition</th>\n",
       "      <th>cylinders</th>\n",
       "      <th>fuel</th>\n",
       "      <th>odometer</th>\n",
       "      <th>title_status</th>\n",
       "      <th>transmission</th>\n",
       "      <th>drive</th>\n",
       "      <th>type</th>\n",
       "      <th>paint_color</th>\n",
       "      <th>state</th>\n",
       "      <th>lat</th>\n",
       "      <th>long</th>\n",
       "    </tr>\n",
       "  </thead>\n",
       "  <tbody>\n",
       "    <tr>\n",
       "      <th>0</th>\n",
       "      <td>-1.500978</td>\n",
       "      <td>10.490996</td>\n",
       "      <td>-0.350290</td>\n",
       "      <td>7</td>\n",
       "      <td>-0.745180</td>\n",
       "      <td>2</td>\n",
       "      <td>6</td>\n",
       "      <td>2</td>\n",
       "      <td>-1.091956</td>\n",
       "      <td>0</td>\n",
       "      <td>2</td>\n",
       "      <td>2</td>\n",
       "      <td>7</td>\n",
       "      <td>5</td>\n",
       "      <td>1</td>\n",
       "      <td>-1.019470</td>\n",
       "      <td>0.480432</td>\n",
       "    </tr>\n",
       "    <tr>\n",
       "      <th>1</th>\n",
       "      <td>-1.500978</td>\n",
       "      <td>8.922658</td>\n",
       "      <td>0.406236</td>\n",
       "      <td>18</td>\n",
       "      <td>1.153011</td>\n",
       "      <td>0</td>\n",
       "      <td>3</td>\n",
       "      <td>2</td>\n",
       "      <td>0.007515</td>\n",
       "      <td>0</td>\n",
       "      <td>0</td>\n",
       "      <td>1</td>\n",
       "      <td>9</td>\n",
       "      <td>5</td>\n",
       "      <td>1</td>\n",
       "      <td>-1.026721</td>\n",
       "      <td>0.481097</td>\n",
       "    </tr>\n",
       "    <tr>\n",
       "      <th>2</th>\n",
       "      <td>-1.500978</td>\n",
       "      <td>8.496990</td>\n",
       "      <td>-1.106816</td>\n",
       "      <td>4</td>\n",
       "      <td>1.593290</td>\n",
       "      <td>2</td>\n",
       "      <td>5</td>\n",
       "      <td>2</td>\n",
       "      <td>-0.110891</td>\n",
       "      <td>0</td>\n",
       "      <td>0</td>\n",
       "      <td>0</td>\n",
       "      <td>0</td>\n",
       "      <td>1</td>\n",
       "      <td>1</td>\n",
       "      <td>-1.014896</td>\n",
       "      <td>0.481325</td>\n",
       "    </tr>\n",
       "    <tr>\n",
       "      <th>4</th>\n",
       "      <td>-1.500978</td>\n",
       "      <td>9.878170</td>\n",
       "      <td>-1.295948</td>\n",
       "      <td>13</td>\n",
       "      <td>-0.165293</td>\n",
       "      <td>0</td>\n",
       "      <td>6</td>\n",
       "      <td>0</td>\n",
       "      <td>0.412198</td>\n",
       "      <td>1</td>\n",
       "      <td>0</td>\n",
       "      <td>0</td>\n",
       "      <td>8</td>\n",
       "      <td>1</td>\n",
       "      <td>1</td>\n",
       "      <td>-1.026721</td>\n",
       "      <td>0.481097</td>\n",
       "    </tr>\n",
       "    <tr>\n",
       "      <th>5</th>\n",
       "      <td>-1.500978</td>\n",
       "      <td>10.295192</td>\n",
       "      <td>0.784500</td>\n",
       "      <td>40</td>\n",
       "      <td>1.283679</td>\n",
       "      <td>2</td>\n",
       "      <td>5</td>\n",
       "      <td>2</td>\n",
       "      <td>-1.082056</td>\n",
       "      <td>0</td>\n",
       "      <td>2</td>\n",
       "      <td>0</td>\n",
       "      <td>8</td>\n",
       "      <td>8</td>\n",
       "      <td>1</td>\n",
       "      <td>-1.019470</td>\n",
       "      <td>0.480432</td>\n",
       "    </tr>\n",
       "    <tr>\n",
       "      <th>...</th>\n",
       "      <td>...</td>\n",
       "      <td>...</td>\n",
       "      <td>...</td>\n",
       "      <td>...</td>\n",
       "      <td>...</td>\n",
       "      <td>...</td>\n",
       "      <td>...</td>\n",
       "      <td>...</td>\n",
       "      <td>...</td>\n",
       "      <td>...</td>\n",
       "      <td>...</td>\n",
       "      <td>...</td>\n",
       "      <td>...</td>\n",
       "      <td>...</td>\n",
       "      <td>...</td>\n",
       "      <td>...</td>\n",
       "      <td>...</td>\n",
       "    </tr>\n",
       "    <tr>\n",
       "      <th>458208</th>\n",
       "      <td>1.600544</td>\n",
       "      <td>9.615472</td>\n",
       "      <td>0.406236</td>\n",
       "      <td>6</td>\n",
       "      <td>1.218122</td>\n",
       "      <td>0</td>\n",
       "      <td>5</td>\n",
       "      <td>2</td>\n",
       "      <td>-0.169714</td>\n",
       "      <td>0</td>\n",
       "      <td>0</td>\n",
       "      <td>0</td>\n",
       "      <td>0</td>\n",
       "      <td>9</td>\n",
       "      <td>48</td>\n",
       "      <td>0.997071</td>\n",
       "      <td>0.232424</td>\n",
       "    </tr>\n",
       "    <tr>\n",
       "      <th>458209</th>\n",
       "      <td>1.600544</td>\n",
       "      <td>9.792277</td>\n",
       "      <td>1.162763</td>\n",
       "      <td>18</td>\n",
       "      <td>1.450702</td>\n",
       "      <td>0</td>\n",
       "      <td>3</td>\n",
       "      <td>2</td>\n",
       "      <td>-1.107385</td>\n",
       "      <td>0</td>\n",
       "      <td>0</td>\n",
       "      <td>0</td>\n",
       "      <td>0</td>\n",
       "      <td>10</td>\n",
       "      <td>48</td>\n",
       "      <td>0.997071</td>\n",
       "      <td>0.232366</td>\n",
       "    </tr>\n",
       "    <tr>\n",
       "      <th>458210</th>\n",
       "      <td>1.727309</td>\n",
       "      <td>9.792556</td>\n",
       "      <td>0.406236</td>\n",
       "      <td>6</td>\n",
       "      <td>-0.676792</td>\n",
       "      <td>0</td>\n",
       "      <td>5</td>\n",
       "      <td>2</td>\n",
       "      <td>-0.725972</td>\n",
       "      <td>0</td>\n",
       "      <td>0</td>\n",
       "      <td>0</td>\n",
       "      <td>3</td>\n",
       "      <td>0</td>\n",
       "      <td>50</td>\n",
       "      <td>1.061230</td>\n",
       "      <td>-0.730236</td>\n",
       "    </tr>\n",
       "    <tr>\n",
       "      <th>458211</th>\n",
       "      <td>1.727309</td>\n",
       "      <td>7.170120</td>\n",
       "      <td>-0.728553</td>\n",
       "      <td>21</td>\n",
       "      <td>0.064606</td>\n",
       "      <td>2</td>\n",
       "      <td>6</td>\n",
       "      <td>2</td>\n",
       "      <td>1.279374</td>\n",
       "      <td>0</td>\n",
       "      <td>0</td>\n",
       "      <td>0</td>\n",
       "      <td>0</td>\n",
       "      <td>10</td>\n",
       "      <td>50</td>\n",
       "      <td>1.059285</td>\n",
       "      <td>-0.728816</td>\n",
       "    </tr>\n",
       "    <tr>\n",
       "      <th>458212</th>\n",
       "      <td>1.727309</td>\n",
       "      <td>10.038892</td>\n",
       "      <td>-0.728553</td>\n",
       "      <td>19</td>\n",
       "      <td>-1.471827</td>\n",
       "      <td>1</td>\n",
       "      <td>4</td>\n",
       "      <td>0</td>\n",
       "      <td>1.279374</td>\n",
       "      <td>0</td>\n",
       "      <td>0</td>\n",
       "      <td>0</td>\n",
       "      <td>6</td>\n",
       "      <td>5</td>\n",
       "      <td>50</td>\n",
       "      <td>0.606144</td>\n",
       "      <td>0.313808</td>\n",
       "    </tr>\n",
       "  </tbody>\n",
       "</table>\n",
       "<p>389331 rows × 17 columns</p>\n",
       "</div>"
      ],
      "text/plain": [
       "          region      price      year  manufacturer     model  condition  \\\n",
       "0      -1.500978  10.490996 -0.350290             7 -0.745180          2   \n",
       "1      -1.500978   8.922658  0.406236            18  1.153011          0   \n",
       "2      -1.500978   8.496990 -1.106816             4  1.593290          2   \n",
       "4      -1.500978   9.878170 -1.295948            13 -0.165293          0   \n",
       "5      -1.500978  10.295192  0.784500            40  1.283679          2   \n",
       "...          ...        ...       ...           ...       ...        ...   \n",
       "458208  1.600544   9.615472  0.406236             6  1.218122          0   \n",
       "458209  1.600544   9.792277  1.162763            18  1.450702          0   \n",
       "458210  1.727309   9.792556  0.406236             6 -0.676792          0   \n",
       "458211  1.727309   7.170120 -0.728553            21  0.064606          2   \n",
       "458212  1.727309  10.038892 -0.728553            19 -1.471827          1   \n",
       "\n",
       "        cylinders  fuel  odometer  title_status  transmission  drive  type  \\\n",
       "0               6     2 -1.091956             0             2      2     7   \n",
       "1               3     2  0.007515             0             0      1     9   \n",
       "2               5     2 -0.110891             0             0      0     0   \n",
       "4               6     0  0.412198             1             0      0     8   \n",
       "5               5     2 -1.082056             0             2      0     8   \n",
       "...           ...   ...       ...           ...           ...    ...   ...   \n",
       "458208          5     2 -0.169714             0             0      0     0   \n",
       "458209          3     2 -1.107385             0             0      0     0   \n",
       "458210          5     2 -0.725972             0             0      0     3   \n",
       "458211          6     2  1.279374             0             0      0     0   \n",
       "458212          4     0  1.279374             0             0      0     6   \n",
       "\n",
       "        paint_color  state       lat      long  \n",
       "0                 5      1 -1.019470  0.480432  \n",
       "1                 5      1 -1.026721  0.481097  \n",
       "2                 1      1 -1.014896  0.481325  \n",
       "4                 1      1 -1.026721  0.481097  \n",
       "5                 8      1 -1.019470  0.480432  \n",
       "...             ...    ...       ...       ...  \n",
       "458208            9     48  0.997071  0.232424  \n",
       "458209           10     48  0.997071  0.232366  \n",
       "458210            0     50  1.061230 -0.730236  \n",
       "458211           10     50  1.059285 -0.728816  \n",
       "458212            5     50  0.606144  0.313808  \n",
       "\n",
       "[389331 rows x 17 columns]"
      ]
     },
     "execution_count": 171,
     "metadata": {},
     "output_type": "execute_result"
    }
   ],
   "source": [
    "df"
   ]
  },
  {
   "cell_type": "markdown",
   "id": "f33324a0",
   "metadata": {},
   "source": [
    "## Split Data"
   ]
  },
  {
   "cell_type": "code",
   "execution_count": 249,
   "id": "867ebe42",
   "metadata": {},
   "outputs": [],
   "source": [
    "\n",
    "from sklearn.model_selection import train_test_split\n",
    "\n",
    "#function to split dataset int training and test\n",
    "def trainingData(df,n):\n",
    "    X = df.drop(columns=[\"price\"], axis=1).to_numpy()\n",
    "    y = df[\"price\"].to_numpy()\n",
    "    X_train,X_test,y_train,y_test=train_test_split(X,y,train_size=0.9,test_size=0.1,random_state=0)\n",
    "    return (X_train,X_test,y_train,y_test)\n",
    "\n",
    "X_train,X_test,y_train,y_test=trainingData(df,list(range(len(list(df.columns))-1)))"
   ]
  },
  {
   "cell_type": "code",
   "execution_count": 224,
   "id": "7675f560",
   "metadata": {},
   "outputs": [
    {
     "data": {
      "text/plain": [
       "(38934,)"
      ]
     },
     "execution_count": 224,
     "metadata": {},
     "output_type": "execute_result"
    }
   ],
   "source": [
    "y_test.shape"
   ]
  },
  {
   "cell_type": "code",
   "execution_count": 253,
   "id": "1299ef64",
   "metadata": {},
   "outputs": [
    {
     "data": {
      "text/plain": [
       "array([[ 1.73576045e+00,  2.79733022e-02,  1.80000000e+01, ...,\n",
       "         4.70000000e+01,  1.36756153e+00, -1.49253419e+00],\n",
       "       [ 5.61069313e-01,  9.73631228e-01,  7.00000000e+00, ...,\n",
       "         9.00000000e+00, -1.69237446e+00,  7.12974779e-01],\n",
       "       [-1.63619469e+00, -3.50289868e-01,  2.40000000e+01, ...,\n",
       "         4.00000000e+00,  5.48531896e-03, -1.54376776e+00],\n",
       "       ...,\n",
       "       [-1.55168453e+00, -1.48507938e+00,  1.30000000e+01, ...,\n",
       "         2.00000000e+01,  8.80448332e-02,  9.83203616e-01],\n",
       "       [ 7.38540637e-01, -1.48507938e+00,  8.00000000e+00, ...,\n",
       "         1.40000000e+01,  3.39392741e-01,  1.96944480e-01],\n",
       "       [-1.12913377e+00,  4.06236472e-01,  3.20000000e+01, ...,\n",
       "         4.20000000e+01, -3.40561753e-01,  3.71949130e-01]])"
      ]
     },
     "execution_count": 253,
     "metadata": {},
     "output_type": "execute_result"
    }
   ],
   "source": [
    "X_train"
   ]
  },
  {
   "cell_type": "code",
   "execution_count": 217,
   "id": "44c8f128",
   "metadata": {},
   "outputs": [],
   "source": [
    "#some of models will predict neg values so this function will remove that values\n",
    "def remove_neg(y_test,y_pred):\n",
    "    ind=[index for index in range(len(y_pred)) if(y_pred[index]>0)]\n",
    "    y_pred=y_pred[ind]\n",
    "    y_test=y_test[ind]\n",
    "    y_pred[y_pred<0]\n",
    "    return (y_test,y_pred)\n",
    "\n",
    "#function for evaluation of model\n",
    "def result(y_test,y_pred):\n",
    "    r=[]\n",
    "    r.append(mean_squared_log_error(y_test, y_pred))\n",
    "    r.append(np.sqrt(r[0]))\n",
    "    r.append(r2_score(y_test,y_pred))\n",
    "    r.append(round(r2_score(y_test,y_pred)*100,4))\n",
    "    return (r)\n",
    "\n",
    "#dataframe that store the performance of each model\n",
    "accu=pd.DataFrame(index=['MSLE', 'Root MSLE', 'R2 Score','Accuracy(%)'])    "
   ]
  },
  {
   "cell_type": "code",
   "execution_count": null,
   "id": "f247e5c8",
   "metadata": {},
   "outputs": [],
   "source": []
  },
  {
   "cell_type": "code",
   "execution_count": null,
   "id": "71375746",
   "metadata": {},
   "outputs": [],
   "source": []
  },
  {
   "cell_type": "code",
   "execution_count": 101,
   "id": "c6250498",
   "metadata": {},
   "outputs": [],
   "source": []
  },
  {
   "cell_type": "code",
   "execution_count": 102,
   "id": "9313b1aa",
   "metadata": {},
   "outputs": [],
   "source": []
  },
  {
   "cell_type": "code",
   "execution_count": null,
   "id": "fd8e21cf",
   "metadata": {},
   "outputs": [],
   "source": []
  },
  {
   "cell_type": "markdown",
   "id": "b080660e",
   "metadata": {},
   "source": [
    "## Linear Regression Model"
   ]
  },
  {
   "cell_type": "code",
   "execution_count": 103,
   "id": "816f9163",
   "metadata": {},
   "outputs": [
    {
     "data": {
      "text/plain": [
       "region          0\n",
       "price           0\n",
       "year            0\n",
       "manufacturer    0\n",
       "model           0\n",
       "condition       0\n",
       "cylinders       0\n",
       "fuel            0\n",
       "odometer        0\n",
       "title_status    0\n",
       "transmission    0\n",
       "drive           0\n",
       "type            0\n",
       "paint_color     0\n",
       "state           0\n",
       "lat             0\n",
       "long            0\n",
       "dtype: int64"
      ]
     },
     "execution_count": 103,
     "metadata": {},
     "output_type": "execute_result"
    }
   ],
   "source": [
    "df.isnull().sum()"
   ]
  },
  {
   "cell_type": "code",
   "execution_count": null,
   "id": "05bb7749",
   "metadata": {},
   "outputs": [],
   "source": []
  },
  {
   "cell_type": "code",
   "execution_count": null,
   "id": "989338aa",
   "metadata": {},
   "outputs": [],
   "source": []
  },
  {
   "cell_type": "code",
   "execution_count": null,
   "id": "0268d9e7",
   "metadata": {},
   "outputs": [],
   "source": []
  },
  {
   "cell_type": "code",
   "execution_count": null,
   "id": "33c8e307",
   "metadata": {},
   "outputs": [],
   "source": []
  },
  {
   "cell_type": "code",
   "execution_count": 240,
   "id": "5b3b56b4",
   "metadata": {},
   "outputs": [],
   "source": [
    "\n",
    "\n",
    "from sklearn.linear_model import LinearRegression\n",
    "\n",
    "from sklearn.metrics import mean_squared_log_error,r2_score,mean_squared_error\n",
    "\n",
    "#fitting model\n",
    "LR=LinearRegression()\n",
    "LR.fit(X_train,y_train)\n",
    "y_pred=LR.predict(X_test)"
   ]
  },
  {
   "cell_type": "code",
   "execution_count": 233,
   "id": "eb34a5a0",
   "metadata": {},
   "outputs": [
    {
     "data": {
      "text/plain": [
       "array([8.83927669, 8.50714286, 9.66459564, ..., 9.85193107, 8.69951475,\n",
       "       8.95544812])"
      ]
     },
     "execution_count": 233,
     "metadata": {},
     "output_type": "execute_result"
    }
   ],
   "source": [
    "y_test"
   ]
  },
  {
   "cell_type": "code",
   "execution_count": 234,
   "id": "5fd71cab",
   "metadata": {},
   "outputs": [
    {
     "data": {
      "text/plain": [
       "(38934,)"
      ]
     },
     "execution_count": 234,
     "metadata": {},
     "output_type": "execute_result"
    }
   ],
   "source": [
    "y_pred.shape"
   ]
  },
  {
   "cell_type": "code",
   "execution_count": 235,
   "id": "9ca71a34",
   "metadata": {},
   "outputs": [],
   "source": [
    "y_test_1,y_pred_1=remove_neg(y_test,y_pred)"
   ]
  },
  {
   "cell_type": "code",
   "execution_count": 236,
   "id": "c76de133",
   "metadata": {},
   "outputs": [
    {
     "data": {
      "text/plain": [
       "array([8.83927669, 8.50714286, 9.66459564, ..., 9.85193107, 8.69951475,\n",
       "       8.95544812])"
      ]
     },
     "execution_count": 236,
     "metadata": {},
     "output_type": "execute_result"
    }
   ],
   "source": [
    "y_test_1"
   ]
  },
  {
   "cell_type": "code",
   "execution_count": 237,
   "id": "f1100e57",
   "metadata": {},
   "outputs": [
    {
     "data": {
      "text/plain": [
       "array([11.670819  ,  6.66834267,  7.9550253 , ...,  9.67207906,\n",
       "        9.41681873, 11.20749357])"
      ]
     },
     "execution_count": 237,
     "metadata": {},
     "output_type": "execute_result"
    }
   ],
   "source": [
    "y_pred_1"
   ]
  },
  {
   "cell_type": "code",
   "execution_count": 241,
   "id": "3d3aca7c",
   "metadata": {},
   "outputs": [
    {
     "name": "stdout",
     "output_type": "stream",
     "text": [
      "Coefficients: \n",
      " [-6.66694935e-05  4.78581826e-01  3.84628255e-05 -1.24089460e-03\n",
      " -3.04729775e-02  2.19981982e-01 -2.15969298e-01 -2.13040272e-01\n",
      " -8.43846968e-02  7.02096909e-02 -7.38674281e-02 -3.34540196e-04\n",
      "  3.72636908e-03  1.78211204e-04 -4.24438240e-04 -6.19646947e-02]\n",
      "MSLE : 0.0027521615355246987\n",
      "Root MSLE : 0.052461047792859594\n",
      "R2 Score : 0.6226492447549415 or 62.2649%\n"
     ]
    }
   ],
   "source": [
    "#calculating error/accuracy\n",
    "y_test_1,y_pred_1=remove_neg(y_test,y_pred)\n",
    "\n",
    "r1_lr=result(y_test_1,y_pred_1)\n",
    "print('Coefficients: \\n', LR.coef_)\n",
    "print(\"MSLE : {}\".format(r1_lr[0]))\n",
    "print(\"Root MSLE : {}\".format(r1_lr[1]))\n",
    "print(\"R2 Score : {} or {}%\".format(r1_lr[2],r1_lr[3]))\n",
    "accu['Linear Regression']=r1_lr"
   ]
  },
  {
   "cell_type": "code",
   "execution_count": 243,
   "id": "f05c811e",
   "metadata": {},
   "outputs": [],
   "source": [
    "X_train = pd.DataFrame(X_train)"
   ]
  },
  {
   "cell_type": "code",
   "execution_count": 248,
   "id": "bf2687e6",
   "metadata": {},
   "outputs": [
    {
     "data": {
      "text/plain": [
       "RangeIndex(start=0, stop=16, step=1)"
      ]
     },
     "execution_count": 248,
     "metadata": {},
     "output_type": "execute_result"
    }
   ],
   "source": [
    "X_train.columns"
   ]
  },
  {
   "cell_type": "code",
   "execution_count": 245,
   "id": "2c2b7d12",
   "metadata": {},
   "outputs": [
    {
     "data": {
      "image/png": "[encoded data removed]",
      "text/plain": [
       "<Figure size 432x432 with 1 Axes>"
      ]
     },
     "metadata": {
      "needs_background": "light"
     },
     "output_type": "display_data"
    }
   ],
   "source": [
    "#Ploting feature importance graph\n",
    "\n",
    "\n",
    "\n",
    "import matplotlib\n",
    "import matplotlib.pyplot as plt\n",
    "\n",
    "coef = pd.Series(LR.coef_, index = X_train.columns)\n",
    "imp_coef = coef.sort_values()\n",
    "matplotlib.rcParams['figure.figsize'] = (6.0, 6.0)\n",
    "imp_coef.plot(kind = \"barh\")\n",
    "plt.title(\"Feature importance using Linear Regression Model\")\n",
    "plt.savefig('Linear-Regression-Feature-Importance.jpg')\n",
    "plt.show()"
   ]
  },
  {
   "cell_type": "code",
   "execution_count": null,
   "id": "ff9fbc28",
   "metadata": {},
   "outputs": [],
   "source": []
  },
  {
   "cell_type": "code",
   "execution_count": null,
   "id": "075366be",
   "metadata": {},
   "outputs": [],
   "source": []
  },
  {
   "cell_type": "code",
   "execution_count": null,
   "id": "03e9c424",
   "metadata": {},
   "outputs": [],
   "source": []
  },
  {
   "cell_type": "code",
   "execution_count": null,
   "id": "1b11ce85",
   "metadata": {},
   "outputs": [],
   "source": []
  },
  {
   "cell_type": "code",
   "execution_count": null,
   "id": "86945c10",
   "metadata": {},
   "outputs": [],
   "source": [
    "df['fuel'].unique()"
   ]
  },
  {
   "cell_type": "code",
   "execution_count": null,
   "id": "e66aa9a5",
   "metadata": {},
   "outputs": [],
   "source": [
    "plt.figure(figsize=(12,8))\n",
    "sns.barplot(data=df,x='fuel',y='price',palette=[\"red\", \"green\", \"blue\", \"goldenrod\", \"magenta\"])\n",
    "plt.title('Fuel Type Vs Price ')\n",
    "plt.xlabel('Fuel Type')\n",
    "plt.ylabel('Price')\n",
    "sns.despine()\n",
    "plt.show()\n",
    "\n"
   ]
  },
  {
   "cell_type": "code",
   "execution_count": null,
   "id": "9ca44b0a",
   "metadata": {
    "scrolled": false
   },
   "outputs": [],
   "source": [
    "grp = df.groupby(['fuel']).size().reset_index(name='counts')\n",
    "\n",
    "pieChart = px.pie(grp, values='counts', names='fuel',  title='Fuel Type Distribution',\n",
    "                  color_discrete_sequence=px.colors.qualitative.Set2)\n",
    "pieChart.show()"
   ]
  },
  {
   "cell_type": "markdown",
   "id": "a8785749",
   "metadata": {},
   "source": [
    "# Dropping description column as that column is of no use to us"
   ]
  },
  {
   "cell_type": "code",
   "execution_count": null,
   "id": "9426c2f5",
   "metadata": {},
   "outputs": [],
   "source": [
    "df=df.drop('description',axis=1)"
   ]
  },
  {
   "cell_type": "code",
   "execution_count": null,
   "id": "57491955",
   "metadata": {},
   "outputs": [],
   "source": [
    "df['state']=df['state'].apply(lambda x : x.upper())"
   ]
  },
  {
   "cell_type": "code",
   "execution_count": null,
   "id": "9de70bdb",
   "metadata": {},
   "outputs": [],
   "source": [
    "df1=df.groupby(by=df['state'], as_index=False).mean()"
   ]
  },
  {
   "cell_type": "code",
   "execution_count": null,
   "id": "feba3b2c",
   "metadata": {},
   "outputs": [],
   "source": [
    "df1=df1[['state','price']]"
   ]
  },
  {
   "cell_type": "code",
   "execution_count": null,
   "id": "6ca6db40",
   "metadata": {},
   "outputs": [],
   "source": [
    "fig = px.choropleth(df1,\n",
    "                    locations='state', \n",
    "                    locationmode=\"USA-states\", \n",
    "                    scope=\"usa\",\n",
    "                    color='price',\n",
    "                    color_continuous_scale=\"Reds\", \n",
    "                    \n",
    "                    )\n",
    "fig.show()\n"
   ]
  },
  {
   "cell_type": "code",
   "execution_count": null,
   "id": "116b1d75",
   "metadata": {},
   "outputs": [],
   "source": [
    "df.nunique()"
   ]
  },
  {
   "cell_type": "code",
   "execution_count": null,
   "id": "0aafd86a",
   "metadata": {},
   "outputs": [],
   "source": [
    "df_year=df[['year','price','transmission']]\n",
    "df_year=df_year.dropna()\n",
    "df_year['year']=df_year['year'].apply(lambda x : int(float(x)))"
   ]
  },
  {
   "cell_type": "code",
   "execution_count": null,
   "id": "50b38070",
   "metadata": {},
   "outputs": [],
   "source": [
    "df_year.isnull().sum()"
   ]
  },
  {
   "cell_type": "code",
   "execution_count": null,
   "id": "1154c53e",
   "metadata": {},
   "outputs": [],
   "source": [
    "df_sort=df_year.sort_values('year')"
   ]
  },
  {
   "cell_type": "code",
   "execution_count": null,
   "id": "41710ff8",
   "metadata": {},
   "outputs": [],
   "source": [
    "df['price'].describe()"
   ]
  },
  {
   "cell_type": "code",
   "execution_count": null,
   "id": "2a581546",
   "metadata": {},
   "outputs": [],
   "source": [
    "fig = px.bar(df_sort, x=\"transmission\", y=\"price\",color=df_sort['transmission'],\n",
    "  animation_frame=\"year\", range_y=[0,2.149500e+07])\n",
    "fig.update_layout(title=\" transmission through the years\", xaxis_title=\"Type\",yaxis_title=\"Values\",\n",
    "                  legend_title=\"Type\")\n",
    "fig.update_xaxes(tickangle=12,title_standoff = 5,rangeselector_font_size=12,)\n",
    "\n",
    "fig.show()"
   ]
  },
  {
   "cell_type": "code",
   "execution_count": null,
   "id": "d07a0efc",
   "metadata": {},
   "outputs": [],
   "source": [
    "plt.figure(figsize=(12,8))\n",
    "sns.set_palette('Set2')\n",
    "sns.barplot(x=df['condition'],y=df['price'])\n",
    "plt.title('Condition Vs Price ')\n",
    "plt.xlabel('Condition')\n",
    "plt.ylabel('Price')\n",
    "sns.despine()\n",
    "plt.show()"
   ]
  },
  {
   "cell_type": "code",
   "execution_count": null,
   "id": "51f55ecf",
   "metadata": {},
   "outputs": [],
   "source": [
    "plt.figure(figsize=(12,8))\n",
    "sns.set_palette(\"husl\", 8)\n",
    "sns.barplot(x=df['cylinders'],y=df['price'])\n",
    "plt.title('Cylinders Vs Price ')\n",
    "plt.xlabel('Cylinders')\n",
    "plt.ylabel('Price')\n",
    "sns.despine()\n",
    "plt.show()"
   ]
  },
  {
   "cell_type": "code",
   "execution_count": null,
   "id": "1aacde3b",
   "metadata": {},
   "outputs": [],
   "source": []
  }
 ],
 "metadata": {
  "kernelspec": {
   "display_name": "Python 3",
   "language": "python",
   "name": "python3"
  },
  "language_info": {
   "codemirror_mode": {
    "name": "ipython",
    "version": 3
   },
   "file_extension": ".py",
   "mimetype": "text/x-python",
   "name": "python",
   "nbconvert_exporter": "python",
   "pygments_lexer": "ipython3",
   "version": "3.9.1"
  }
 },
 "nbformat": 4,
 "nbformat_minor": 5
}
